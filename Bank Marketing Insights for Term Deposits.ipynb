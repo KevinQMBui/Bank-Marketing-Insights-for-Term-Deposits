{
 "cells": [
  {
   "cell_type": "markdown",
   "metadata": {},
   "source": [
    "[Banking Dataset](https://www.kaggle.com/janiobachmann/bank-marketing-dataset/data#)"
   ]
  },
  {
   "cell_type": "markdown",
   "metadata": {},
   "source": [
    "## Project Goal"
   ]
  },
  {
   "cell_type": "markdown",
   "metadata": {},
   "source": [
    "* Find some actionable insights that will help the marketing team make plans for a campaign that aims to maximize the amount of new term deposit subscribers."
   ]
  },
  {
   "cell_type": "markdown",
   "metadata": {},
   "source": [
    "## Column Labels"
   ]
  },
  {
   "cell_type": "markdown",
   "metadata": {},
   "source": [
    "* <b>age:</b> how old someone is (numeric)\n",
    "* <b>job:</b> type of job (categorical: 'admin.','blue-collar','entrepreneur','housemaid','management','retired','self-employed','services','student','technician','unemployed','unknown')\n",
    "* <b>marital:</b> marital status (categorical: 'divorced','married','single','unknown'; note: 'divorced' means divorced or widowed)\n",
    "* <b>education:</b> (categorical: 'basic.4y','basic.6y','basic.9y','high.school','illiterate','professional.course','university.degree','unknown')\n",
    "* <b>default:</b> has credit in default? (categorical: 'no','yes','unknown')\n",
    "* <b>balance:</b> amount of money in bank account (numeric)\n",
    "* <b>housing:</b> has housing loan? (categorical: 'no','yes','unknown')\n",
    "* <b>loan:</b> has personal loan? (categorical: 'no','yes','unknown')\n",
    "* <b>contact:</b> contact communication type (categorical: 'cellular','telephone')\n",
    "* <b>day:</b> last contact day of month (1-31)\n",
    "* <b>month:</b> last contact month of year (categorical: 'jan', 'feb', 'mar', ..., 'nov', 'dec')\n",
    "* <b>duration:</b> last contact duration, in seconds (numeric). Important note: this attribute highly affects the output target (e.g., if duration=0 then y='no'). Yet, the duration is not known before a call is performed. Also, after the end of the call y is obviously known. Thus, this input should only be included for benchmark purposes and should be discarded if the intention is to have a realistic predictive model.\n",
    "* <b>campaign:</b> number of contacts performed during this campaign and for this client (numeric, includes last contact)\n",
    "* <b>pdays:</b> number of days that passed by after the client was last contacted from a previous campaign (numeric; -1 means client was not previously contacted)\n",
    "* <b>previous:</b> number of contacts performed before this campaign and for this client (numeric)\n",
    "* <b>poutcome:</b> outcome of the previous marketing campaign (categorical: 'failure','nonexistent','success')\n",
    "* <b>deposit:</b> has the client subscribed a term deposit? (binary: 'yes','no')"
   ]
  },
  {
   "cell_type": "markdown",
   "metadata": {},
   "source": [
    "## Imports"
   ]
  },
  {
   "cell_type": "code",
   "execution_count": 1,
   "metadata": {},
   "outputs": [],
   "source": [
    "import numpy as np\n",
    "import pandas as pd\n",
    "import matplotlib.pyplot as plt\n",
    "import seaborn as sns\n",
    "sns.set_style('whitegrid')\n",
    "sns.set_palette('husl')\n",
    "%matplotlib inline"
   ]
  },
  {
   "cell_type": "markdown",
   "metadata": {},
   "source": [
    "## Data Exploration"
   ]
  },
  {
   "cell_type": "code",
   "execution_count": 2,
   "metadata": {},
   "outputs": [],
   "source": [
    "bf = pd.read_csv('bank.csv')"
   ]
  },
  {
   "cell_type": "code",
   "execution_count": 3,
   "metadata": {},
   "outputs": [
    {
     "data": {
      "text/html": [
       "<div>\n",
       "<style scoped>\n",
       "    .dataframe tbody tr th:only-of-type {\n",
       "        vertical-align: middle;\n",
       "    }\n",
       "\n",
       "    .dataframe tbody tr th {\n",
       "        vertical-align: top;\n",
       "    }\n",
       "\n",
       "    .dataframe thead th {\n",
       "        text-align: right;\n",
       "    }\n",
       "</style>\n",
       "<table border=\"1\" class=\"dataframe\">\n",
       "  <thead>\n",
       "    <tr style=\"text-align: right;\">\n",
       "      <th></th>\n",
       "      <th>age</th>\n",
       "      <th>job</th>\n",
       "      <th>marital</th>\n",
       "      <th>education</th>\n",
       "      <th>default</th>\n",
       "      <th>balance</th>\n",
       "      <th>housing</th>\n",
       "      <th>loan</th>\n",
       "      <th>contact</th>\n",
       "      <th>day</th>\n",
       "      <th>month</th>\n",
       "      <th>duration</th>\n",
       "      <th>campaign</th>\n",
       "      <th>pdays</th>\n",
       "      <th>previous</th>\n",
       "      <th>poutcome</th>\n",
       "      <th>deposit</th>\n",
       "    </tr>\n",
       "  </thead>\n",
       "  <tbody>\n",
       "    <tr>\n",
       "      <th>0</th>\n",
       "      <td>59</td>\n",
       "      <td>admin.</td>\n",
       "      <td>married</td>\n",
       "      <td>secondary</td>\n",
       "      <td>no</td>\n",
       "      <td>2343</td>\n",
       "      <td>yes</td>\n",
       "      <td>no</td>\n",
       "      <td>unknown</td>\n",
       "      <td>5</td>\n",
       "      <td>may</td>\n",
       "      <td>1042</td>\n",
       "      <td>1</td>\n",
       "      <td>-1</td>\n",
       "      <td>0</td>\n",
       "      <td>unknown</td>\n",
       "      <td>yes</td>\n",
       "    </tr>\n",
       "    <tr>\n",
       "      <th>1</th>\n",
       "      <td>56</td>\n",
       "      <td>admin.</td>\n",
       "      <td>married</td>\n",
       "      <td>secondary</td>\n",
       "      <td>no</td>\n",
       "      <td>45</td>\n",
       "      <td>no</td>\n",
       "      <td>no</td>\n",
       "      <td>unknown</td>\n",
       "      <td>5</td>\n",
       "      <td>may</td>\n",
       "      <td>1467</td>\n",
       "      <td>1</td>\n",
       "      <td>-1</td>\n",
       "      <td>0</td>\n",
       "      <td>unknown</td>\n",
       "      <td>yes</td>\n",
       "    </tr>\n",
       "    <tr>\n",
       "      <th>2</th>\n",
       "      <td>41</td>\n",
       "      <td>technician</td>\n",
       "      <td>married</td>\n",
       "      <td>secondary</td>\n",
       "      <td>no</td>\n",
       "      <td>1270</td>\n",
       "      <td>yes</td>\n",
       "      <td>no</td>\n",
       "      <td>unknown</td>\n",
       "      <td>5</td>\n",
       "      <td>may</td>\n",
       "      <td>1389</td>\n",
       "      <td>1</td>\n",
       "      <td>-1</td>\n",
       "      <td>0</td>\n",
       "      <td>unknown</td>\n",
       "      <td>yes</td>\n",
       "    </tr>\n",
       "    <tr>\n",
       "      <th>3</th>\n",
       "      <td>55</td>\n",
       "      <td>services</td>\n",
       "      <td>married</td>\n",
       "      <td>secondary</td>\n",
       "      <td>no</td>\n",
       "      <td>2476</td>\n",
       "      <td>yes</td>\n",
       "      <td>no</td>\n",
       "      <td>unknown</td>\n",
       "      <td>5</td>\n",
       "      <td>may</td>\n",
       "      <td>579</td>\n",
       "      <td>1</td>\n",
       "      <td>-1</td>\n",
       "      <td>0</td>\n",
       "      <td>unknown</td>\n",
       "      <td>yes</td>\n",
       "    </tr>\n",
       "    <tr>\n",
       "      <th>4</th>\n",
       "      <td>54</td>\n",
       "      <td>admin.</td>\n",
       "      <td>married</td>\n",
       "      <td>tertiary</td>\n",
       "      <td>no</td>\n",
       "      <td>184</td>\n",
       "      <td>no</td>\n",
       "      <td>no</td>\n",
       "      <td>unknown</td>\n",
       "      <td>5</td>\n",
       "      <td>may</td>\n",
       "      <td>673</td>\n",
       "      <td>2</td>\n",
       "      <td>-1</td>\n",
       "      <td>0</td>\n",
       "      <td>unknown</td>\n",
       "      <td>yes</td>\n",
       "    </tr>\n",
       "  </tbody>\n",
       "</table>\n",
       "</div>"
      ],
      "text/plain": [
       "   age         job  marital  education default  balance housing loan  contact  \\\n",
       "0   59      admin.  married  secondary      no     2343     yes   no  unknown   \n",
       "1   56      admin.  married  secondary      no       45      no   no  unknown   \n",
       "2   41  technician  married  secondary      no     1270     yes   no  unknown   \n",
       "3   55    services  married  secondary      no     2476     yes   no  unknown   \n",
       "4   54      admin.  married   tertiary      no      184      no   no  unknown   \n",
       "\n",
       "   day month  duration  campaign  pdays  previous poutcome deposit  \n",
       "0    5   may      1042         1     -1         0  unknown     yes  \n",
       "1    5   may      1467         1     -1         0  unknown     yes  \n",
       "2    5   may      1389         1     -1         0  unknown     yes  \n",
       "3    5   may       579         1     -1         0  unknown     yes  \n",
       "4    5   may       673         2     -1         0  unknown     yes  "
      ]
     },
     "execution_count": 3,
     "metadata": {},
     "output_type": "execute_result"
    }
   ],
   "source": [
    "bf.head()"
   ]
  },
  {
   "cell_type": "code",
   "execution_count": 4,
   "metadata": {},
   "outputs": [
    {
     "name": "stdout",
     "output_type": "stream",
     "text": [
      "<class 'pandas.core.frame.DataFrame'>\n",
      "RangeIndex: 11162 entries, 0 to 11161\n",
      "Data columns (total 17 columns):\n",
      " #   Column     Non-Null Count  Dtype \n",
      "---  ------     --------------  ----- \n",
      " 0   age        11162 non-null  int64 \n",
      " 1   job        11162 non-null  object\n",
      " 2   marital    11162 non-null  object\n",
      " 3   education  11162 non-null  object\n",
      " 4   default    11162 non-null  object\n",
      " 5   balance    11162 non-null  int64 \n",
      " 6   housing    11162 non-null  object\n",
      " 7   loan       11162 non-null  object\n",
      " 8   contact    11162 non-null  object\n",
      " 9   day        11162 non-null  int64 \n",
      " 10  month      11162 non-null  object\n",
      " 11  duration   11162 non-null  int64 \n",
      " 12  campaign   11162 non-null  int64 \n",
      " 13  pdays      11162 non-null  int64 \n",
      " 14  previous   11162 non-null  int64 \n",
      " 15  poutcome   11162 non-null  object\n",
      " 16  deposit    11162 non-null  object\n",
      "dtypes: int64(7), object(10)\n",
      "memory usage: 1.4+ MB\n"
     ]
    }
   ],
   "source": [
    "bf.info()"
   ]
  },
  {
   "cell_type": "markdown",
   "metadata": {},
   "source": [
    "## Data Cleaning"
   ]
  },
  {
   "cell_type": "code",
   "execution_count": 5,
   "metadata": {},
   "outputs": [],
   "source": [
    "# Given that \"-1\" is a missing value for the pdays column, I will change \"-1\" to a NaN value.\n",
    "bf['pdays'] = bf['pdays'].replace(-1,np.nan)"
   ]
  },
  {
   "cell_type": "code",
   "execution_count": 6,
   "metadata": {},
   "outputs": [],
   "source": [
    "# Convert day column into string object type since I want to analyze it as a categorical value.\n",
    "bf['day'] = bf['day'].astype(str)"
   ]
  },
  {
   "cell_type": "code",
   "execution_count": 7,
   "metadata": {},
   "outputs": [
    {
     "data": {
      "text/plain": [
       "age           0.000000\n",
       "job           0.000000\n",
       "marital       0.000000\n",
       "education     0.000000\n",
       "default       0.000000\n",
       "balance       0.000000\n",
       "housing       0.000000\n",
       "loan          0.000000\n",
       "contact       0.000000\n",
       "day           0.000000\n",
       "month         0.000000\n",
       "duration      0.000000\n",
       "campaign      0.000000\n",
       "pdays        74.574449\n",
       "previous      0.000000\n",
       "poutcome      0.000000\n",
       "deposit       0.000000\n",
       "dtype: float64"
      ]
     },
     "execution_count": 7,
     "metadata": {},
     "output_type": "execute_result"
    }
   ],
   "source": [
    "# Checking percentage of missing values for each column.\n",
    "100*bf.isnull().sum()/len(bf.index)"
   ]
  },
  {
   "cell_type": "markdown",
   "metadata": {},
   "source": [
    "* I will go ahead and drop the pdays column since 74.574449% (missing value threshold percentage ~25.00%) of the pdays column is NaN."
   ]
  },
  {
   "cell_type": "code",
   "execution_count": 8,
   "metadata": {},
   "outputs": [],
   "source": [
    "bf = bf.drop('pdays',axis=1)"
   ]
  },
  {
   "cell_type": "code",
   "execution_count": 9,
   "metadata": {},
   "outputs": [
    {
     "data": {
      "text/plain": [
       "0"
      ]
     },
     "execution_count": 9,
     "metadata": {},
     "output_type": "execute_result"
    }
   ],
   "source": [
    "# Checking for duplicate rows.\n",
    "bf.duplicated().sum()"
   ]
  },
  {
   "cell_type": "code",
   "execution_count": 10,
   "metadata": {},
   "outputs": [
    {
     "name": "stdout",
     "output_type": "stream",
     "text": [
      "<class 'pandas.core.frame.DataFrame'>\n",
      "RangeIndex: 11162 entries, 0 to 11161\n",
      "Data columns (total 16 columns):\n",
      " #   Column     Non-Null Count  Dtype \n",
      "---  ------     --------------  ----- \n",
      " 0   age        11162 non-null  int64 \n",
      " 1   job        11162 non-null  object\n",
      " 2   marital    11162 non-null  object\n",
      " 3   education  11162 non-null  object\n",
      " 4   default    11162 non-null  object\n",
      " 5   balance    11162 non-null  int64 \n",
      " 6   housing    11162 non-null  object\n",
      " 7   loan       11162 non-null  object\n",
      " 8   contact    11162 non-null  object\n",
      " 9   day        11162 non-null  object\n",
      " 10  month      11162 non-null  object\n",
      " 11  duration   11162 non-null  int64 \n",
      " 12  campaign   11162 non-null  int64 \n",
      " 13  previous   11162 non-null  int64 \n",
      " 14  poutcome   11162 non-null  object\n",
      " 15  deposit    11162 non-null  object\n",
      "dtypes: int64(5), object(11)\n",
      "memory usage: 1.4+ MB\n"
     ]
    }
   ],
   "source": [
    "bf.info()"
   ]
  },
  {
   "cell_type": "markdown",
   "metadata": {},
   "source": [
    "## Numerical Exploration"
   ]
  },
  {
   "cell_type": "code",
   "execution_count": 11,
   "metadata": {},
   "outputs": [
    {
     "data": {
      "text/html": [
       "<div>\n",
       "<style scoped>\n",
       "    .dataframe tbody tr th:only-of-type {\n",
       "        vertical-align: middle;\n",
       "    }\n",
       "\n",
       "    .dataframe tbody tr th {\n",
       "        vertical-align: top;\n",
       "    }\n",
       "\n",
       "    .dataframe thead th {\n",
       "        text-align: right;\n",
       "    }\n",
       "</style>\n",
       "<table border=\"1\" class=\"dataframe\">\n",
       "  <thead>\n",
       "    <tr style=\"text-align: right;\">\n",
       "      <th></th>\n",
       "      <th>age</th>\n",
       "      <th>balance</th>\n",
       "      <th>duration</th>\n",
       "      <th>campaign</th>\n",
       "      <th>previous</th>\n",
       "    </tr>\n",
       "  </thead>\n",
       "  <tbody>\n",
       "    <tr>\n",
       "      <th>0</th>\n",
       "      <td>59</td>\n",
       "      <td>2343</td>\n",
       "      <td>1042</td>\n",
       "      <td>1</td>\n",
       "      <td>0</td>\n",
       "    </tr>\n",
       "    <tr>\n",
       "      <th>1</th>\n",
       "      <td>56</td>\n",
       "      <td>45</td>\n",
       "      <td>1467</td>\n",
       "      <td>1</td>\n",
       "      <td>0</td>\n",
       "    </tr>\n",
       "    <tr>\n",
       "      <th>2</th>\n",
       "      <td>41</td>\n",
       "      <td>1270</td>\n",
       "      <td>1389</td>\n",
       "      <td>1</td>\n",
       "      <td>0</td>\n",
       "    </tr>\n",
       "    <tr>\n",
       "      <th>3</th>\n",
       "      <td>55</td>\n",
       "      <td>2476</td>\n",
       "      <td>579</td>\n",
       "      <td>1</td>\n",
       "      <td>0</td>\n",
       "    </tr>\n",
       "    <tr>\n",
       "      <th>4</th>\n",
       "      <td>54</td>\n",
       "      <td>184</td>\n",
       "      <td>673</td>\n",
       "      <td>2</td>\n",
       "      <td>0</td>\n",
       "    </tr>\n",
       "  </tbody>\n",
       "</table>\n",
       "</div>"
      ],
      "text/plain": [
       "   age  balance  duration  campaign  previous\n",
       "0   59     2343      1042         1         0\n",
       "1   56       45      1467         1         0\n",
       "2   41     1270      1389         1         0\n",
       "3   55     2476       579         1         0\n",
       "4   54      184       673         2         0"
      ]
     },
     "execution_count": 11,
     "metadata": {},
     "output_type": "execute_result"
    }
   ],
   "source": [
    "# Exploring the numerical columns on this dataset\n",
    "bf_num = bf[['age','balance','duration','campaign','previous']]\n",
    "bf_num.head()"
   ]
  },
  {
   "cell_type": "code",
   "execution_count": 12,
   "metadata": {},
   "outputs": [
    {
     "data": {
      "text/html": [
       "<div>\n",
       "<style scoped>\n",
       "    .dataframe tbody tr th:only-of-type {\n",
       "        vertical-align: middle;\n",
       "    }\n",
       "\n",
       "    .dataframe tbody tr th {\n",
       "        vertical-align: top;\n",
       "    }\n",
       "\n",
       "    .dataframe thead th {\n",
       "        text-align: right;\n",
       "    }\n",
       "</style>\n",
       "<table border=\"1\" class=\"dataframe\">\n",
       "  <thead>\n",
       "    <tr style=\"text-align: right;\">\n",
       "      <th></th>\n",
       "      <th>age</th>\n",
       "      <th>balance</th>\n",
       "      <th>duration</th>\n",
       "      <th>campaign</th>\n",
       "      <th>previous</th>\n",
       "    </tr>\n",
       "  </thead>\n",
       "  <tbody>\n",
       "    <tr>\n",
       "      <th>count</th>\n",
       "      <td>11162.000000</td>\n",
       "      <td>11162.000000</td>\n",
       "      <td>11162.000000</td>\n",
       "      <td>11162.000000</td>\n",
       "      <td>11162.000000</td>\n",
       "    </tr>\n",
       "    <tr>\n",
       "      <th>mean</th>\n",
       "      <td>41.231948</td>\n",
       "      <td>1528.538524</td>\n",
       "      <td>371.993818</td>\n",
       "      <td>2.508421</td>\n",
       "      <td>0.832557</td>\n",
       "    </tr>\n",
       "    <tr>\n",
       "      <th>std</th>\n",
       "      <td>11.913369</td>\n",
       "      <td>3225.413326</td>\n",
       "      <td>347.128386</td>\n",
       "      <td>2.722077</td>\n",
       "      <td>2.292007</td>\n",
       "    </tr>\n",
       "    <tr>\n",
       "      <th>min</th>\n",
       "      <td>18.000000</td>\n",
       "      <td>-6847.000000</td>\n",
       "      <td>2.000000</td>\n",
       "      <td>1.000000</td>\n",
       "      <td>0.000000</td>\n",
       "    </tr>\n",
       "    <tr>\n",
       "      <th>25%</th>\n",
       "      <td>32.000000</td>\n",
       "      <td>122.000000</td>\n",
       "      <td>138.000000</td>\n",
       "      <td>1.000000</td>\n",
       "      <td>0.000000</td>\n",
       "    </tr>\n",
       "    <tr>\n",
       "      <th>50%</th>\n",
       "      <td>39.000000</td>\n",
       "      <td>550.000000</td>\n",
       "      <td>255.000000</td>\n",
       "      <td>2.000000</td>\n",
       "      <td>0.000000</td>\n",
       "    </tr>\n",
       "    <tr>\n",
       "      <th>75%</th>\n",
       "      <td>49.000000</td>\n",
       "      <td>1708.000000</td>\n",
       "      <td>496.000000</td>\n",
       "      <td>3.000000</td>\n",
       "      <td>1.000000</td>\n",
       "    </tr>\n",
       "    <tr>\n",
       "      <th>max</th>\n",
       "      <td>95.000000</td>\n",
       "      <td>81204.000000</td>\n",
       "      <td>3881.000000</td>\n",
       "      <td>63.000000</td>\n",
       "      <td>58.000000</td>\n",
       "    </tr>\n",
       "  </tbody>\n",
       "</table>\n",
       "</div>"
      ],
      "text/plain": [
       "                age       balance      duration      campaign      previous\n",
       "count  11162.000000  11162.000000  11162.000000  11162.000000  11162.000000\n",
       "mean      41.231948   1528.538524    371.993818      2.508421      0.832557\n",
       "std       11.913369   3225.413326    347.128386      2.722077      2.292007\n",
       "min       18.000000  -6847.000000      2.000000      1.000000      0.000000\n",
       "25%       32.000000    122.000000    138.000000      1.000000      0.000000\n",
       "50%       39.000000    550.000000    255.000000      2.000000      0.000000\n",
       "75%       49.000000   1708.000000    496.000000      3.000000      1.000000\n",
       "max       95.000000  81204.000000   3881.000000     63.000000     58.000000"
      ]
     },
     "execution_count": 12,
     "metadata": {},
     "output_type": "execute_result"
    }
   ],
   "source": [
    "bf_num.describe()"
   ]
  },
  {
   "cell_type": "code",
   "execution_count": 13,
   "metadata": {},
   "outputs": [
    {
     "data": {
      "text/plain": [
       "array([[<matplotlib.axes._subplots.AxesSubplot object at 0x1a18522610>,\n",
       "        <matplotlib.axes._subplots.AxesSubplot object at 0x1a19605f10>,\n",
       "        <matplotlib.axes._subplots.AxesSubplot object at 0x1a1963bb10>],\n",
       "       [<matplotlib.axes._subplots.AxesSubplot object at 0x1a1967af50>,\n",
       "        <matplotlib.axes._subplots.AxesSubplot object at 0x1a196b0b50>,\n",
       "        <matplotlib.axes._subplots.AxesSubplot object at 0x1a196eef50>]],\n",
       "      dtype=object)"
      ]
     },
     "execution_count": 13,
     "metadata": {},
     "output_type": "execute_result"
    },
    {
     "data": {
      "image/png": "[encoded data removed]",
      "text/plain": [
       "<Figure size 1440x720 with 6 Axes>"
      ]
     },
     "metadata": {
      "needs_background": "light"
     },
     "output_type": "display_data"
    }
   ],
   "source": [
    "bf_num.hist(bins=25, figsize=(20, 10), layout=(2, 3))"
   ]
  },
  {
   "cell_type": "markdown",
   "metadata": {},
   "source": [
    "* There looks like there may be some noisy outliers for balance, campaign, duration, and previous\n",
    "* There looks to be a heavy bias towards a single value for balance, campaign, and previous"
   ]
  },
  {
   "cell_type": "code",
   "execution_count": 14,
   "metadata": {},
   "outputs": [
    {
     "data": {
      "text/html": [
       "<div>\n",
       "<style scoped>\n",
       "    .dataframe tbody tr th:only-of-type {\n",
       "        vertical-align: middle;\n",
       "    }\n",
       "\n",
       "    .dataframe tbody tr th {\n",
       "        vertical-align: top;\n",
       "    }\n",
       "\n",
       "    .dataframe thead th {\n",
       "        text-align: right;\n",
       "    }\n",
       "</style>\n",
       "<table border=\"1\" class=\"dataframe\">\n",
       "  <thead>\n",
       "    <tr style=\"text-align: right;\">\n",
       "      <th></th>\n",
       "      <th>age</th>\n",
       "      <th>balance</th>\n",
       "      <th>duration</th>\n",
       "      <th>campaign</th>\n",
       "      <th>previous</th>\n",
       "    </tr>\n",
       "  </thead>\n",
       "  <tbody>\n",
       "    <tr>\n",
       "      <th>count</th>\n",
       "      <td>11162.000000</td>\n",
       "      <td>11162.000000</td>\n",
       "      <td>11162.000000</td>\n",
       "      <td>11162.000000</td>\n",
       "      <td>11162.000000</td>\n",
       "    </tr>\n",
       "    <tr>\n",
       "      <th>mean</th>\n",
       "      <td>41.231948</td>\n",
       "      <td>1528.538524</td>\n",
       "      <td>371.993818</td>\n",
       "      <td>2.508421</td>\n",
       "      <td>0.832557</td>\n",
       "    </tr>\n",
       "    <tr>\n",
       "      <th>std</th>\n",
       "      <td>11.913369</td>\n",
       "      <td>3225.413326</td>\n",
       "      <td>347.128386</td>\n",
       "      <td>2.722077</td>\n",
       "      <td>2.292007</td>\n",
       "    </tr>\n",
       "    <tr>\n",
       "      <th>min</th>\n",
       "      <td>18.000000</td>\n",
       "      <td>-6847.000000</td>\n",
       "      <td>2.000000</td>\n",
       "      <td>1.000000</td>\n",
       "      <td>0.000000</td>\n",
       "    </tr>\n",
       "    <tr>\n",
       "      <th>25%</th>\n",
       "      <td>32.000000</td>\n",
       "      <td>122.000000</td>\n",
       "      <td>138.000000</td>\n",
       "      <td>1.000000</td>\n",
       "      <td>0.000000</td>\n",
       "    </tr>\n",
       "    <tr>\n",
       "      <th>50%</th>\n",
       "      <td>39.000000</td>\n",
       "      <td>550.000000</td>\n",
       "      <td>255.000000</td>\n",
       "      <td>2.000000</td>\n",
       "      <td>0.000000</td>\n",
       "    </tr>\n",
       "    <tr>\n",
       "      <th>75%</th>\n",
       "      <td>49.000000</td>\n",
       "      <td>1708.000000</td>\n",
       "      <td>496.000000</td>\n",
       "      <td>3.000000</td>\n",
       "      <td>1.000000</td>\n",
       "    </tr>\n",
       "    <tr>\n",
       "      <th>max</th>\n",
       "      <td>95.000000</td>\n",
       "      <td>81204.000000</td>\n",
       "      <td>3881.000000</td>\n",
       "      <td>63.000000</td>\n",
       "      <td>58.000000</td>\n",
       "    </tr>\n",
       "  </tbody>\n",
       "</table>\n",
       "</div>"
      ],
      "text/plain": [
       "                age       balance      duration      campaign      previous\n",
       "count  11162.000000  11162.000000  11162.000000  11162.000000  11162.000000\n",
       "mean      41.231948   1528.538524    371.993818      2.508421      0.832557\n",
       "std       11.913369   3225.413326    347.128386      2.722077      2.292007\n",
       "min       18.000000  -6847.000000      2.000000      1.000000      0.000000\n",
       "25%       32.000000    122.000000    138.000000      1.000000      0.000000\n",
       "50%       39.000000    550.000000    255.000000      2.000000      0.000000\n",
       "75%       49.000000   1708.000000    496.000000      3.000000      1.000000\n",
       "max       95.000000  81204.000000   3881.000000     63.000000     58.000000"
      ]
     },
     "execution_count": 14,
     "metadata": {},
     "output_type": "execute_result"
    }
   ],
   "source": [
    "bf.describe()"
   ]
  },
  {
   "cell_type": "code",
   "execution_count": 15,
   "metadata": {},
   "outputs": [
    {
     "name": "stdout",
     "output_type": "stream",
     "text": [
      "6\n",
      "3028\n",
      "8324\n"
     ]
    }
   ],
   "source": [
    "# Checking the median count for numerical columns that look heavily biased towards a single value\n",
    "print(bf[bf['balance']==550].count()[0])\n",
    "print(bf[bf['campaign']==2].count()[0])\n",
    "print(bf[bf['previous']==0].count()[0])"
   ]
  },
  {
   "cell_type": "markdown",
   "metadata": {},
   "source": [
    "* A significant number of the values for the campaign and previous columns are the exact same.\n",
    "* For that reason, I will impute the outliers for each column with their corresponding median values."
   ]
  },
  {
   "cell_type": "code",
   "execution_count": 16,
   "metadata": {},
   "outputs": [
    {
     "name": "stderr",
     "output_type": "stream",
     "text": [
      "/Users/kqmbui/opt/anaconda3/lib/python3.7/site-packages/ipykernel_launcher.py:2: SettingWithCopyWarning: \n",
      "A value is trying to be set on a copy of a slice from a DataFrame\n",
      "\n",
      "See the caveats in the documentation: https://pandas.pydata.org/pandas-docs/stable/user_guide/indexing.html#returning-a-view-versus-a-copy\n",
      "  \n",
      "/Users/kqmbui/opt/anaconda3/lib/python3.7/site-packages/ipykernel_launcher.py:3: SettingWithCopyWarning: \n",
      "A value is trying to be set on a copy of a slice from a DataFrame\n",
      "\n",
      "See the caveats in the documentation: https://pandas.pydata.org/pandas-docs/stable/user_guide/indexing.html#returning-a-view-versus-a-copy\n",
      "  This is separate from the ipykernel package so we can avoid doing imports until\n"
     ]
    }
   ],
   "source": [
    "# Median imputation for campaign, pdays, and previous\n",
    "bf['campaign'][bf['campaign']>=13] = bf['campaign'].median()\n",
    "bf['previous'][bf['previous']>=9] = bf['previous'].median()"
   ]
  },
  {
   "cell_type": "code",
   "execution_count": 17,
   "metadata": {},
   "outputs": [],
   "source": [
    "# Performing outlier treatment for age, balance, and duration\n",
    "Q1 = bf.quantile(.25)\n",
    "Q3 = bf.quantile(.75)"
   ]
  },
  {
   "cell_type": "code",
   "execution_count": 18,
   "metadata": {},
   "outputs": [],
   "source": [
    "IQR = Q3['age']-Q1['age']\n",
    "IB = Q1['age']-(1.5*IQR)\n",
    "UB = Q3['age']+(1.5*IQR)\n",
    "bf[(bf['age']<IB) | (bf['age']>UB)] = np.nan\n",
    "bf = bf.dropna()"
   ]
  },
  {
   "cell_type": "code",
   "execution_count": 19,
   "metadata": {},
   "outputs": [],
   "source": [
    "IQR = Q3['balance']-Q1['balance']\n",
    "IB = Q1['balance']-(1.5*IQR)\n",
    "UB = Q3['balance']+(1.5*IQR)\n",
    "bf[(bf['balance']<IB) | (bf['balance']>UB)] = np.nan\n",
    "bf = bf.dropna()"
   ]
  },
  {
   "cell_type": "code",
   "execution_count": 20,
   "metadata": {},
   "outputs": [],
   "source": [
    "IQR = Q3['duration']-Q1['duration']\n",
    "IB = Q1['duration']-(1.5*IQR)\n",
    "UB = Q3['duration']+(1.5*IQR)\n",
    "bf[(bf['duration']<IB) | (bf['duration']>UB)] = np.nan\n",
    "bf = bf.dropna()"
   ]
  },
  {
   "cell_type": "code",
   "execution_count": 21,
   "metadata": {},
   "outputs": [
    {
     "data": {
      "text/html": [
       "<div>\n",
       "<style scoped>\n",
       "    .dataframe tbody tr th:only-of-type {\n",
       "        vertical-align: middle;\n",
       "    }\n",
       "\n",
       "    .dataframe tbody tr th {\n",
       "        vertical-align: top;\n",
       "    }\n",
       "\n",
       "    .dataframe thead th {\n",
       "        text-align: right;\n",
       "    }\n",
       "</style>\n",
       "<table border=\"1\" class=\"dataframe\">\n",
       "  <thead>\n",
       "    <tr style=\"text-align: right;\">\n",
       "      <th></th>\n",
       "      <th>age</th>\n",
       "      <th>balance</th>\n",
       "      <th>day</th>\n",
       "      <th>duration</th>\n",
       "      <th>campaign</th>\n",
       "      <th>previous</th>\n",
       "    </tr>\n",
       "  </thead>\n",
       "  <tbody>\n",
       "    <tr>\n",
       "      <th>3</th>\n",
       "      <td>55.0</td>\n",
       "      <td>2476.0</td>\n",
       "      <td>5</td>\n",
       "      <td>579.0</td>\n",
       "      <td>1.0</td>\n",
       "      <td>0.0</td>\n",
       "    </tr>\n",
       "    <tr>\n",
       "      <th>4</th>\n",
       "      <td>54.0</td>\n",
       "      <td>184.0</td>\n",
       "      <td>5</td>\n",
       "      <td>673.0</td>\n",
       "      <td>2.0</td>\n",
       "      <td>0.0</td>\n",
       "    </tr>\n",
       "    <tr>\n",
       "      <th>5</th>\n",
       "      <td>42.0</td>\n",
       "      <td>0.0</td>\n",
       "      <td>5</td>\n",
       "      <td>562.0</td>\n",
       "      <td>2.0</td>\n",
       "      <td>0.0</td>\n",
       "    </tr>\n",
       "    <tr>\n",
       "      <th>7</th>\n",
       "      <td>60.0</td>\n",
       "      <td>545.0</td>\n",
       "      <td>6</td>\n",
       "      <td>1030.0</td>\n",
       "      <td>1.0</td>\n",
       "      <td>0.0</td>\n",
       "    </tr>\n",
       "    <tr>\n",
       "      <th>8</th>\n",
       "      <td>37.0</td>\n",
       "      <td>1.0</td>\n",
       "      <td>6</td>\n",
       "      <td>608.0</td>\n",
       "      <td>1.0</td>\n",
       "      <td>0.0</td>\n",
       "    </tr>\n",
       "  </tbody>\n",
       "</table>\n",
       "</div>"
      ],
      "text/plain": [
       "    age  balance day  duration  campaign  previous\n",
       "3  55.0   2476.0   5     579.0       1.0       0.0\n",
       "4  54.0    184.0   5     673.0       2.0       0.0\n",
       "5  42.0      0.0   5     562.0       2.0       0.0\n",
       "7  60.0    545.0   6    1030.0       1.0       0.0\n",
       "8  37.0      1.0   6     608.0       1.0       0.0"
      ]
     },
     "execution_count": 21,
     "metadata": {},
     "output_type": "execute_result"
    }
   ],
   "source": [
    "bf_num = bf[['age','balance','day','duration','campaign','previous']]\n",
    "bf_num.head()"
   ]
  },
  {
   "cell_type": "code",
   "execution_count": 22,
   "metadata": {},
   "outputs": [
    {
     "data": {
      "text/plain": [
       "array([[<matplotlib.axes._subplots.AxesSubplot object at 0x1a18d31350>,\n",
       "        <matplotlib.axes._subplots.AxesSubplot object at 0x1a18cf2890>,\n",
       "        <matplotlib.axes._subplots.AxesSubplot object at 0x1043c2710>],\n",
       "       [<matplotlib.axes._subplots.AxesSubplot object at 0x1a1854a190>,\n",
       "        <matplotlib.axes._subplots.AxesSubplot object at 0x1a18560310>,\n",
       "        <matplotlib.axes._subplots.AxesSubplot object at 0x1a19d99150>]],\n",
       "      dtype=object)"
      ]
     },
     "execution_count": 22,
     "metadata": {},
     "output_type": "execute_result"
    },
    {
     "data": {
      "image/png": "[encoded data removed]",
      "text/plain": [
       "<Figure size 1440x720 with 6 Axes>"
      ]
     },
     "metadata": {
      "needs_background": "light"
     },
     "output_type": "display_data"
    }
   ],
   "source": [
    "bf_num.hist(bins=25, figsize=(20, 10), layout=(2, 3))"
   ]
  },
  {
   "cell_type": "markdown",
   "metadata": {},
   "source": [
    "* Numerical graphs after removing the outliers"
   ]
  },
  {
   "cell_type": "markdown",
   "metadata": {},
   "source": [
    "## Categorical Exploration"
   ]
  },
  {
   "cell_type": "code",
   "execution_count": 23,
   "metadata": {},
   "outputs": [
    {
     "data": {
      "text/html": [
       "<div>\n",
       "<style scoped>\n",
       "    .dataframe tbody tr th:only-of-type {\n",
       "        vertical-align: middle;\n",
       "    }\n",
       "\n",
       "    .dataframe tbody tr th {\n",
       "        vertical-align: top;\n",
       "    }\n",
       "\n",
       "    .dataframe thead th {\n",
       "        text-align: right;\n",
       "    }\n",
       "</style>\n",
       "<table border=\"1\" class=\"dataframe\">\n",
       "  <thead>\n",
       "    <tr style=\"text-align: right;\">\n",
       "      <th></th>\n",
       "      <th>job</th>\n",
       "      <th>marital</th>\n",
       "      <th>education</th>\n",
       "      <th>default</th>\n",
       "      <th>housing</th>\n",
       "      <th>loan</th>\n",
       "      <th>contact</th>\n",
       "      <th>day</th>\n",
       "      <th>month</th>\n",
       "      <th>poutcome</th>\n",
       "    </tr>\n",
       "  </thead>\n",
       "  <tbody>\n",
       "    <tr>\n",
       "      <th>3</th>\n",
       "      <td>services</td>\n",
       "      <td>married</td>\n",
       "      <td>secondary</td>\n",
       "      <td>no</td>\n",
       "      <td>yes</td>\n",
       "      <td>no</td>\n",
       "      <td>unknown</td>\n",
       "      <td>5</td>\n",
       "      <td>may</td>\n",
       "      <td>unknown</td>\n",
       "    </tr>\n",
       "    <tr>\n",
       "      <th>4</th>\n",
       "      <td>admin.</td>\n",
       "      <td>married</td>\n",
       "      <td>tertiary</td>\n",
       "      <td>no</td>\n",
       "      <td>no</td>\n",
       "      <td>no</td>\n",
       "      <td>unknown</td>\n",
       "      <td>5</td>\n",
       "      <td>may</td>\n",
       "      <td>unknown</td>\n",
       "    </tr>\n",
       "    <tr>\n",
       "      <th>5</th>\n",
       "      <td>management</td>\n",
       "      <td>single</td>\n",
       "      <td>tertiary</td>\n",
       "      <td>no</td>\n",
       "      <td>yes</td>\n",
       "      <td>yes</td>\n",
       "      <td>unknown</td>\n",
       "      <td>5</td>\n",
       "      <td>may</td>\n",
       "      <td>unknown</td>\n",
       "    </tr>\n",
       "    <tr>\n",
       "      <th>7</th>\n",
       "      <td>retired</td>\n",
       "      <td>divorced</td>\n",
       "      <td>secondary</td>\n",
       "      <td>no</td>\n",
       "      <td>yes</td>\n",
       "      <td>no</td>\n",
       "      <td>unknown</td>\n",
       "      <td>6</td>\n",
       "      <td>may</td>\n",
       "      <td>unknown</td>\n",
       "    </tr>\n",
       "    <tr>\n",
       "      <th>8</th>\n",
       "      <td>technician</td>\n",
       "      <td>married</td>\n",
       "      <td>secondary</td>\n",
       "      <td>no</td>\n",
       "      <td>yes</td>\n",
       "      <td>no</td>\n",
       "      <td>unknown</td>\n",
       "      <td>6</td>\n",
       "      <td>may</td>\n",
       "      <td>unknown</td>\n",
       "    </tr>\n",
       "  </tbody>\n",
       "</table>\n",
       "</div>"
      ],
      "text/plain": [
       "          job   marital  education default housing loan  contact day month  \\\n",
       "3    services   married  secondary      no     yes   no  unknown   5   may   \n",
       "4      admin.   married   tertiary      no      no   no  unknown   5   may   \n",
       "5  management    single   tertiary      no     yes  yes  unknown   5   may   \n",
       "7     retired  divorced  secondary      no     yes   no  unknown   6   may   \n",
       "8  technician   married  secondary      no     yes   no  unknown   6   may   \n",
       "\n",
       "  poutcome  \n",
       "3  unknown  \n",
       "4  unknown  \n",
       "5  unknown  \n",
       "7  unknown  \n",
       "8  unknown  "
      ]
     },
     "execution_count": 23,
     "metadata": {},
     "output_type": "execute_result"
    }
   ],
   "source": [
    "# Exploring the categorical columns on this dataset\n",
    "categorical = bf[['job','marital','education','default','housing','loan','contact','day','month','poutcome']]\n",
    "categorical.head()"
   ]
  },
  {
   "cell_type": "code",
   "execution_count": 24,
   "metadata": {},
   "outputs": [
    {
     "data": {
      "image/png": "[encoded data removed]",
      "text/plain": [
       "<Figure size 1440x1440 with 12 Axes>"
      ]
     },
     "metadata": {
      "needs_background": "light"
     },
     "output_type": "display_data"
    }
   ],
   "source": [
    "# Checking out the categorical values for the independent variables\n",
    "fig, ax = plt.subplots(4,3, figsize=(20, 20))\n",
    "for variable, subplot in zip(categorical, ax.flatten()):\n",
    "    sns.countplot(categorical[variable], ax=subplot)\n",
    "    for label in subplot.get_xticklabels():\n",
    "        label.set_rotation(90)"
   ]
  },
  {
   "cell_type": "markdown",
   "metadata": {},
   "source": [
    "* The poutcome column does not look like it will be useful for the prediction model"
   ]
  },
  {
   "cell_type": "code",
   "execution_count": 25,
   "metadata": {},
   "outputs": [
    {
     "data": {
      "text/plain": [
       "<matplotlib.axes._subplots.AxesSubplot at 0x1a1af349d0>"
      ]
     },
     "execution_count": 25,
     "metadata": {},
     "output_type": "execute_result"
    },
    {
     "data": {
      "image/png": "[encoded data removed]",
      "text/plain": [
       "<Figure size 432x288 with 1 Axes>"
      ]
     },
     "metadata": {
      "needs_background": "light"
     },
     "output_type": "display_data"
    }
   ],
   "source": [
    "sns.countplot(bf['deposit'])"
   ]
  },
  {
   "cell_type": "markdown",
   "metadata": {},
   "source": [
    "## Analyzing Response Variable (Deposit) with Numerical Values"
   ]
  },
  {
   "cell_type": "code",
   "execution_count": 26,
   "metadata": {},
   "outputs": [
    {
     "data": {
      "text/plain": [
       "<matplotlib.axes._subplots.AxesSubplot at 0x1a1afa06d0>"
      ]
     },
     "execution_count": 26,
     "metadata": {},
     "output_type": "execute_result"
    },
    {
     "data": {
      "image/png": "[encoded data removed]",
      "text/plain": [
       "<Figure size 432x288 with 2 Axes>"
      ]
     },
     "metadata": {
      "needs_background": "light"
     },
     "output_type": "display_data"
    }
   ],
   "source": [
    "# Heatmap visualizing correlation between the numerical values\n",
    "sns.heatmap(bf.corr(),annot=True,cmap='plasma')"
   ]
  },
  {
   "cell_type": "markdown",
   "metadata": {},
   "source": [
    "* Based on the heatmap, there doesn't seem to be much of a correlation between the numerical values\n",
    "* Most significant positive correlation is between age and balance"
   ]
  },
  {
   "cell_type": "code",
   "execution_count": 27,
   "metadata": {},
   "outputs": [
    {
     "data": {
      "text/html": [
       "<div>\n",
       "<style scoped>\n",
       "    .dataframe tbody tr th:only-of-type {\n",
       "        vertical-align: middle;\n",
       "    }\n",
       "\n",
       "    .dataframe tbody tr th {\n",
       "        vertical-align: top;\n",
       "    }\n",
       "\n",
       "    .dataframe thead th {\n",
       "        text-align: right;\n",
       "    }\n",
       "</style>\n",
       "<table border=\"1\" class=\"dataframe\">\n",
       "  <thead>\n",
       "    <tr style=\"text-align: right;\">\n",
       "      <th></th>\n",
       "      <th>age</th>\n",
       "      <th>balance</th>\n",
       "      <th>duration</th>\n",
       "      <th>campaign</th>\n",
       "      <th>previous</th>\n",
       "    </tr>\n",
       "  </thead>\n",
       "  <tbody>\n",
       "    <tr>\n",
       "      <th>count</th>\n",
       "      <td>4070.000000</td>\n",
       "      <td>4070.000000</td>\n",
       "      <td>4070.000000</td>\n",
       "      <td>4070.000000</td>\n",
       "      <td>4070.000000</td>\n",
       "    </tr>\n",
       "    <tr>\n",
       "      <th>mean</th>\n",
       "      <td>40.412285</td>\n",
       "      <td>961.557248</td>\n",
       "      <td>438.550369</td>\n",
       "      <td>1.995086</td>\n",
       "      <td>0.988943</td>\n",
       "    </tr>\n",
       "    <tr>\n",
       "      <th>std</th>\n",
       "      <td>12.358018</td>\n",
       "      <td>1046.556674</td>\n",
       "      <td>248.264778</td>\n",
       "      <td>1.504797</td>\n",
       "      <td>1.708011</td>\n",
       "    </tr>\n",
       "    <tr>\n",
       "      <th>min</th>\n",
       "      <td>18.000000</td>\n",
       "      <td>-1944.000000</td>\n",
       "      <td>8.000000</td>\n",
       "      <td>1.000000</td>\n",
       "      <td>0.000000</td>\n",
       "    </tr>\n",
       "    <tr>\n",
       "      <th>25%</th>\n",
       "      <td>31.000000</td>\n",
       "      <td>168.000000</td>\n",
       "      <td>230.000000</td>\n",
       "      <td>1.000000</td>\n",
       "      <td>0.000000</td>\n",
       "    </tr>\n",
       "    <tr>\n",
       "      <th>50%</th>\n",
       "      <td>37.000000</td>\n",
       "      <td>568.500000</td>\n",
       "      <td>384.000000</td>\n",
       "      <td>1.000000</td>\n",
       "      <td>0.000000</td>\n",
       "    </tr>\n",
       "    <tr>\n",
       "      <th>75%</th>\n",
       "      <td>49.000000</td>\n",
       "      <td>1527.750000</td>\n",
       "      <td>623.000000</td>\n",
       "      <td>2.000000</td>\n",
       "      <td>1.000000</td>\n",
       "    </tr>\n",
       "    <tr>\n",
       "      <th>max</th>\n",
       "      <td>74.000000</td>\n",
       "      <td>4079.000000</td>\n",
       "      <td>1033.000000</td>\n",
       "      <td>12.000000</td>\n",
       "      <td>8.000000</td>\n",
       "    </tr>\n",
       "  </tbody>\n",
       "</table>\n",
       "</div>"
      ],
      "text/plain": [
       "               age      balance     duration     campaign     previous\n",
       "count  4070.000000  4070.000000  4070.000000  4070.000000  4070.000000\n",
       "mean     40.412285   961.557248   438.550369     1.995086     0.988943\n",
       "std      12.358018  1046.556674   248.264778     1.504797     1.708011\n",
       "min      18.000000 -1944.000000     8.000000     1.000000     0.000000\n",
       "25%      31.000000   168.000000   230.000000     1.000000     0.000000\n",
       "50%      37.000000   568.500000   384.000000     1.000000     0.000000\n",
       "75%      49.000000  1527.750000   623.000000     2.000000     1.000000\n",
       "max      74.000000  4079.000000  1033.000000    12.000000     8.000000"
      ]
     },
     "execution_count": 27,
     "metadata": {},
     "output_type": "execute_result"
    }
   ],
   "source": [
    "# Summary statistic of people who have a term deposit\n",
    "bf[bf['deposit']=='yes'].describe()"
   ]
  },
  {
   "cell_type": "code",
   "execution_count": 28,
   "metadata": {},
   "outputs": [
    {
     "data": {
      "text/html": [
       "<div>\n",
       "<style scoped>\n",
       "    .dataframe tbody tr th:only-of-type {\n",
       "        vertical-align: middle;\n",
       "    }\n",
       "\n",
       "    .dataframe tbody tr th {\n",
       "        vertical-align: top;\n",
       "    }\n",
       "\n",
       "    .dataframe thead th {\n",
       "        text-align: right;\n",
       "    }\n",
       "</style>\n",
       "<table border=\"1\" class=\"dataframe\">\n",
       "  <thead>\n",
       "    <tr style=\"text-align: right;\">\n",
       "      <th></th>\n",
       "      <th>age</th>\n",
       "      <th>balance</th>\n",
       "      <th>duration</th>\n",
       "      <th>campaign</th>\n",
       "      <th>previous</th>\n",
       "    </tr>\n",
       "  </thead>\n",
       "  <tbody>\n",
       "    <tr>\n",
       "      <th>count</th>\n",
       "      <td>5335.000000</td>\n",
       "      <td>5335.000000</td>\n",
       "      <td>5335.000000</td>\n",
       "      <td>5335.000000</td>\n",
       "      <td>5335.000000</td>\n",
       "    </tr>\n",
       "    <tr>\n",
       "      <th>mean</th>\n",
       "      <td>40.353889</td>\n",
       "      <td>676.590066</td>\n",
       "      <td>209.743768</td>\n",
       "      <td>2.510778</td>\n",
       "      <td>0.382381</td>\n",
       "    </tr>\n",
       "    <tr>\n",
       "      <th>std</th>\n",
       "      <td>9.703187</td>\n",
       "      <td>934.839430</td>\n",
       "      <td>169.245588</td>\n",
       "      <td>2.006697</td>\n",
       "      <td>1.142126</td>\n",
       "    </tr>\n",
       "    <tr>\n",
       "      <th>min</th>\n",
       "      <td>18.000000</td>\n",
       "      <td>-2049.000000</td>\n",
       "      <td>2.000000</td>\n",
       "      <td>1.000000</td>\n",
       "      <td>0.000000</td>\n",
       "    </tr>\n",
       "    <tr>\n",
       "      <th>25%</th>\n",
       "      <td>33.000000</td>\n",
       "      <td>41.500000</td>\n",
       "      <td>92.000000</td>\n",
       "      <td>1.000000</td>\n",
       "      <td>0.000000</td>\n",
       "    </tr>\n",
       "    <tr>\n",
       "      <th>50%</th>\n",
       "      <td>39.000000</td>\n",
       "      <td>333.000000</td>\n",
       "      <td>162.000000</td>\n",
       "      <td>2.000000</td>\n",
       "      <td>0.000000</td>\n",
       "    </tr>\n",
       "    <tr>\n",
       "      <th>75%</th>\n",
       "      <td>48.000000</td>\n",
       "      <td>980.000000</td>\n",
       "      <td>273.000000</td>\n",
       "      <td>3.000000</td>\n",
       "      <td>0.000000</td>\n",
       "    </tr>\n",
       "    <tr>\n",
       "      <th>max</th>\n",
       "      <td>74.000000</td>\n",
       "      <td>4087.000000</td>\n",
       "      <td>1020.000000</td>\n",
       "      <td>12.000000</td>\n",
       "      <td>8.000000</td>\n",
       "    </tr>\n",
       "  </tbody>\n",
       "</table>\n",
       "</div>"
      ],
      "text/plain": [
       "               age      balance     duration     campaign     previous\n",
       "count  5335.000000  5335.000000  5335.000000  5335.000000  5335.000000\n",
       "mean     40.353889   676.590066   209.743768     2.510778     0.382381\n",
       "std       9.703187   934.839430   169.245588     2.006697     1.142126\n",
       "min      18.000000 -2049.000000     2.000000     1.000000     0.000000\n",
       "25%      33.000000    41.500000    92.000000     1.000000     0.000000\n",
       "50%      39.000000   333.000000   162.000000     2.000000     0.000000\n",
       "75%      48.000000   980.000000   273.000000     3.000000     0.000000\n",
       "max      74.000000  4087.000000  1020.000000    12.000000     8.000000"
      ]
     },
     "execution_count": 28,
     "metadata": {},
     "output_type": "execute_result"
    }
   ],
   "source": [
    "# Summary statistic of people who do not have a term deposit\n",
    "bf[bf['deposit']=='no'].describe()"
   ]
  },
  {
   "cell_type": "code",
   "execution_count": 29,
   "metadata": {},
   "outputs": [
    {
     "data": {
      "text/plain": [
       "<matplotlib.axes._subplots.AxesSubplot at 0x1a1b633f50>"
      ]
     },
     "execution_count": 29,
     "metadata": {},
     "output_type": "execute_result"
    },
    {
     "data": {
      "image/png": "[encoded data removed]",
      "text/plain": [
       "<Figure size 360x360 with 1 Axes>"
      ]
     },
     "metadata": {
      "needs_background": "light"
     },
     "output_type": "display_data"
    }
   ],
   "source": [
    "plt.figure(figsize=(5,5))\n",
    "sns.boxplot(bf['deposit'],bf['age'])"
   ]
  },
  {
   "cell_type": "code",
   "execution_count": 30,
   "metadata": {},
   "outputs": [
    {
     "data": {
      "text/plain": [
       "<matplotlib.axes._subplots.AxesSubplot at 0x1a1b713690>"
      ]
     },
     "execution_count": 30,
     "metadata": {},
     "output_type": "execute_result"
    },
    {
     "data": {
      "image/png": "[encoded data removed]",
      "text/plain": [
       "<Figure size 1080x360 with 1 Axes>"
      ]
     },
     "metadata": {
      "needs_background": "light"
     },
     "output_type": "display_data"
    }
   ],
   "source": [
    "plt.figure(figsize=(15,5))\n",
    "sns.distplot(bf[bf['deposit']=='yes']['age'],hist=False,label='yes')\n",
    "sns.distplot(bf[bf['deposit']=='no']['age'],hist=False,label='no')"
   ]
  },
  {
   "cell_type": "markdown",
   "metadata": {},
   "source": [
    "* On average, people who are older tend to have a subscription for term deposits.\n",
    "* Best to target people who are less than 30 years old AND greater than 58 years old."
   ]
  },
  {
   "cell_type": "code",
   "execution_count": 31,
   "metadata": {},
   "outputs": [
    {
     "data": {
      "text/plain": [
       "<matplotlib.axes._subplots.AxesSubplot at 0x1a1b7cbf50>"
      ]
     },
     "execution_count": 31,
     "metadata": {},
     "output_type": "execute_result"
    },
    {
     "data": {
      "image/png": "[encoded data removed]",
      "text/plain": [
       "<Figure size 360x360 with 1 Axes>"
      ]
     },
     "metadata": {
      "needs_background": "light"
     },
     "output_type": "display_data"
    }
   ],
   "source": [
    "plt.figure(figsize=(5,5))\n",
    "sns.boxplot(bf['deposit'],bf['balance'])"
   ]
  },
  {
   "cell_type": "code",
   "execution_count": 32,
   "metadata": {},
   "outputs": [
    {
     "data": {
      "text/plain": [
       "<matplotlib.axes._subplots.AxesSubplot at 0x1a1bb15490>"
      ]
     },
     "execution_count": 32,
     "metadata": {},
     "output_type": "execute_result"
    },
    {
     "data": {
      "image/png": "[encoded data removed]",
      "text/plain": [
       "<Figure size 1080x360 with 1 Axes>"
      ]
     },
     "metadata": {
      "needs_background": "light"
     },
     "output_type": "display_data"
    }
   ],
   "source": [
    "plt.figure(figsize=(15,5))\n",
    "sns.distplot(bf[bf['deposit']=='yes']['balance'],hist=False,label='yes')\n",
    "sns.distplot(bf[bf['deposit']=='no']['balance'],hist=False,label='no')"
   ]
  },
  {
   "cell_type": "markdown",
   "metadata": {},
   "source": [
    "* On average, people with a higher balance tend to have a subscription for term deposits.\n",
    "* Best to target people who have $500 or more."
   ]
  },
  {
   "cell_type": "code",
   "execution_count": 33,
   "metadata": {},
   "outputs": [
    {
     "data": {
      "text/plain": [
       "<matplotlib.axes._subplots.AxesSubplot at 0x1a1b80a910>"
      ]
     },
     "execution_count": 33,
     "metadata": {},
     "output_type": "execute_result"
    },
    {
     "data": {
      "image/png": "[encoded data removed]",
      "text/plain": [
       "<Figure size 360x360 with 1 Axes>"
      ]
     },
     "metadata": {
      "needs_background": "light"
     },
     "output_type": "display_data"
    }
   ],
   "source": [
    "plt.figure(figsize=(5,5))\n",
    "sns.boxplot(bf['deposit'],bf['duration'])"
   ]
  },
  {
   "cell_type": "code",
   "execution_count": 34,
   "metadata": {},
   "outputs": [
    {
     "data": {
      "text/plain": [
       "<matplotlib.axes._subplots.AxesSubplot at 0x1a1bd8c2d0>"
      ]
     },
     "execution_count": 34,
     "metadata": {},
     "output_type": "execute_result"
    },
    {
     "data": {
      "image/png": "[encoded data removed]",
      "text/plain": [
       "<Figure size 1080x360 with 1 Axes>"
      ]
     },
     "metadata": {
      "needs_background": "light"
     },
     "output_type": "display_data"
    }
   ],
   "source": [
    "plt.figure(figsize=(15,5))\n",
    "sns.distplot(bf[bf['deposit']=='yes']['duration'],hist=False,label='yes')\n",
    "sns.distplot(bf[bf['deposit']=='no']['duration'],hist=False,label='no')"
   ]
  },
  {
   "cell_type": "markdown",
   "metadata": {},
   "source": [
    "* On average, people who were on a longer call session per second tend to have a subscription for term deposits.\n",
    "* When making a call, a good duration to end the call is around 250 seconds or longer."
   ]
  },
  {
   "cell_type": "code",
   "execution_count": 35,
   "metadata": {},
   "outputs": [
    {
     "data": {
      "text/plain": [
       "<matplotlib.axes._subplots.AxesSubplot at 0x1a1bbeab10>"
      ]
     },
     "execution_count": 35,
     "metadata": {},
     "output_type": "execute_result"
    },
    {
     "data": {
      "image/png": "[encoded data removed]",
      "text/plain": [
       "<Figure size 360x360 with 1 Axes>"
      ]
     },
     "metadata": {
      "needs_background": "light"
     },
     "output_type": "display_data"
    }
   ],
   "source": [
    "plt.figure(figsize=(5,5))\n",
    "sns.boxplot(bf['deposit'],bf['campaign'])"
   ]
  },
  {
   "cell_type": "code",
   "execution_count": 36,
   "metadata": {},
   "outputs": [
    {
     "data": {
      "text/plain": [
       "<matplotlib.axes._subplots.AxesSubplot at 0x1a1bff9ad0>"
      ]
     },
     "execution_count": 36,
     "metadata": {},
     "output_type": "execute_result"
    },
    {
     "data": {
      "image/png": "[encoded data removed]",
      "text/plain": [
       "<Figure size 720x360 with 1 Axes>"
      ]
     },
     "metadata": {
      "needs_background": "light"
     },
     "output_type": "display_data"
    }
   ],
   "source": [
    "plt.figure(figsize=(10,5))\n",
    "sns.distplot(bf[bf['deposit']=='yes']['campaign'],hist=False,label='yes')"
   ]
  },
  {
   "cell_type": "markdown",
   "metadata": {},
   "source": [
    "* People who were contacted more than two times about the term deposit in a single campaign are less likely to subscribe to a term deposit."
   ]
  },
  {
   "cell_type": "code",
   "execution_count": 37,
   "metadata": {},
   "outputs": [
    {
     "data": {
      "text/plain": [
       "<matplotlib.axes._subplots.AxesSubplot at 0x1a1c0bcb10>"
      ]
     },
     "execution_count": 37,
     "metadata": {},
     "output_type": "execute_result"
    },
    {
     "data": {
      "image/png": "[encoded data removed]",
      "text/plain": [
       "<Figure size 432x288 with 1 Axes>"
      ]
     },
     "metadata": {
      "needs_background": "light"
     },
     "output_type": "display_data"
    }
   ],
   "source": [
    "#plt.figure(figsize=(5,5))\n",
    "sns.boxplot(bf['deposit'],bf['previous'])"
   ]
  },
  {
   "cell_type": "code",
   "execution_count": 38,
   "metadata": {},
   "outputs": [
    {
     "data": {
      "text/plain": [
       "<matplotlib.axes._subplots.AxesSubplot at 0x1a1c1f5250>"
      ]
     },
     "execution_count": 38,
     "metadata": {},
     "output_type": "execute_result"
    },
    {
     "data": {
      "image/png": "[encoded data removed]",
      "text/plain": [
       "<Figure size 720x360 with 1 Axes>"
      ]
     },
     "metadata": {
      "needs_background": "light"
     },
     "output_type": "display_data"
    }
   ],
   "source": [
    "plt.figure(figsize=(10,5))\n",
    "sns.distplot(bf[bf['deposit']=='yes']['previous'],hist=False,label='yes')"
   ]
  },
  {
   "cell_type": "markdown",
   "metadata": {},
   "source": [
    "* People were more likely to subscribe to a term deposit if the amount of calls in the previous campaign is greater than zero, but there is a decreasing return the more calls there are.\n",
    "* Reasons might include people labeling the excess amount of calls as spam."
   ]
  },
  {
   "cell_type": "markdown",
   "metadata": {},
   "source": [
    "## Analyzing Response Variable (Deposit) with Categorical Values"
   ]
  },
  {
   "cell_type": "code",
   "execution_count": 39,
   "metadata": {},
   "outputs": [
    {
     "data": {
      "text/plain": [
       "<matplotlib.axes._subplots.AxesSubplot at 0x1a1c2d9390>"
      ]
     },
     "execution_count": 39,
     "metadata": {},
     "output_type": "execute_result"
    },
    {
     "data": {
      "image/png": "[encoded data removed]",
      "text/plain": [
       "<Figure size 1080x360 with 1 Axes>"
      ]
     },
     "metadata": {
      "needs_background": "light"
     },
     "output_type": "display_data"
    }
   ],
   "source": [
    "plt.figure(figsize=(15,5))\n",
    "sns.countplot(bf['job'],order=bf[bf['deposit']=='yes']['job'].value_counts().index,hue=bf['deposit'])"
   ]
  },
  {
   "cell_type": "markdown",
   "metadata": {},
   "source": [
    "* People who are retired, students, or unemployed are good targets for term deposits since they are more likely to subscribe to a term deposit than other job types. However, it is a good idea to work on improving the conversion rate for people who work management, technician, or blue-collar jobs since they make up the majority of the sample."
   ]
  },
  {
   "cell_type": "code",
   "execution_count": 40,
   "metadata": {},
   "outputs": [
    {
     "data": {
      "text/plain": [
       "<matplotlib.axes._subplots.AxesSubplot at 0x1a1c2fba50>"
      ]
     },
     "execution_count": 40,
     "metadata": {},
     "output_type": "execute_result"
    },
    {
     "data": {
      "image/png": "[encoded data removed]",
      "text/plain": [
       "<Figure size 1080x360 with 1 Axes>"
      ]
     },
     "metadata": {
      "needs_background": "light"
     },
     "output_type": "display_data"
    }
   ],
   "source": [
    "plt.figure(figsize=(15,5))\n",
    "sns.countplot(bf['marital'],hue=bf['deposit'])"
   ]
  },
  {
   "cell_type": "markdown",
   "metadata": {},
   "source": [
    "* Single people are most likely to subscribe to term deposits, compared to married or divorced couples."
   ]
  },
  {
   "cell_type": "code",
   "execution_count": 41,
   "metadata": {},
   "outputs": [
    {
     "data": {
      "text/plain": [
       "<matplotlib.axes._subplots.AxesSubplot at 0x1a1c5c40d0>"
      ]
     },
     "execution_count": 41,
     "metadata": {},
     "output_type": "execute_result"
    },
    {
     "data": {
      "image/png": "[encoded data removed]",
      "text/plain": [
       "<Figure size 1080x360 with 1 Axes>"
      ]
     },
     "metadata": {
      "needs_background": "light"
     },
     "output_type": "display_data"
    }
   ],
   "source": [
    "plt.figure(figsize=(15,5))\n",
    "sns.countplot(bf['education'],hue=bf['deposit'])"
   ]
  },
  {
   "cell_type": "markdown",
   "metadata": {},
   "source": [
    "* The higher a person's education, the more likely they are to subscribe to a term deposit (tertiary > secondary > primary)."
   ]
  },
  {
   "cell_type": "code",
   "execution_count": 42,
   "metadata": {},
   "outputs": [
    {
     "data": {
      "text/plain": [
       "<matplotlib.axes._subplots.AxesSubplot at 0x1a1c73df90>"
      ]
     },
     "execution_count": 42,
     "metadata": {},
     "output_type": "execute_result"
    },
    {
     "data": {
      "image/png": "[encoded data removed]",
      "text/plain": [
       "<Figure size 1080x360 with 1 Axes>"
      ]
     },
     "metadata": {
      "needs_background": "light"
     },
     "output_type": "display_data"
    }
   ],
   "source": [
    "plt.figure(figsize=(15,5))\n",
    "sns.countplot(bf['default'],hue=bf['deposit'])"
   ]
  },
  {
   "cell_type": "markdown",
   "metadata": {},
   "source": [
    "* A default in credit doesn't look like it has much of an impact since there isn't a noticible trend on a person's decision to subscribe to a term deposit. Regardless if a person defaulted on their credit or not, he/she isn't likely to have a term deposit."
   ]
  },
  {
   "cell_type": "code",
   "execution_count": 43,
   "metadata": {},
   "outputs": [
    {
     "data": {
      "text/plain": [
       "<matplotlib.axes._subplots.AxesSubplot at 0x1a1c8c2750>"
      ]
     },
     "execution_count": 43,
     "metadata": {},
     "output_type": "execute_result"
    },
    {
     "data": {
      "image/png": "[encoded data removed]",
      "text/plain": [
       "<Figure size 1080x360 with 1 Axes>"
      ]
     },
     "metadata": {
      "needs_background": "light"
     },
     "output_type": "display_data"
    }
   ],
   "source": [
    "plt.figure(figsize=(15,5))\n",
    "sns.countplot(bf['housing'],hue=bf['deposit'])"
   ]
  },
  {
   "cell_type": "markdown",
   "metadata": {},
   "source": [
    "* People with no housing loans are more likely to subscribe to a term deposit."
   ]
  },
  {
   "cell_type": "code",
   "execution_count": 44,
   "metadata": {},
   "outputs": [
    {
     "data": {
      "text/plain": [
       "<matplotlib.axes._subplots.AxesSubplot at 0x1a1c763fd0>"
      ]
     },
     "execution_count": 44,
     "metadata": {},
     "output_type": "execute_result"
    },
    {
     "data": {
      "image/png": "[encoded data removed]",
      "text/plain": [
       "<Figure size 1080x360 with 1 Axes>"
      ]
     },
     "metadata": {
      "needs_background": "light"
     },
     "output_type": "display_data"
    }
   ],
   "source": [
    "plt.figure(figsize=(15,5))\n",
    "sns.countplot(bf['loan'],hue=bf['deposit'])"
   ]
  },
  {
   "cell_type": "markdown",
   "metadata": {},
   "source": [
    "* A personal loan doesn't look like it has much of an impact since there isn't a noticible trend on a person's decision to subscribe to a term deposit. Regardless if a person has a personal loan or not, he/she isn't likely to have a term deposit."
   ]
  },
  {
   "cell_type": "code",
   "execution_count": 45,
   "metadata": {},
   "outputs": [
    {
     "data": {
      "text/plain": [
       "<matplotlib.axes._subplots.AxesSubplot at 0x1a1cbaafd0>"
      ]
     },
     "execution_count": 45,
     "metadata": {},
     "output_type": "execute_result"
    },
    {
     "data": {
      "image/png": "[encoded data removed]",
      "text/plain": [
       "<Figure size 1080x360 with 1 Axes>"
      ]
     },
     "metadata": {
      "needs_background": "light"
     },
     "output_type": "display_data"
    }
   ],
   "source": [
    "plt.figure(figsize=(15,5))\n",
    "sns.countplot(bf['contact'],hue=bf['deposit'])"
   ]
  },
  {
   "cell_type": "markdown",
   "metadata": {},
   "source": [
    "* People who are contacted by their cellular devices are more likely to convert to a subscription for term deposits, compared to telephones or other devices."
   ]
  },
  {
   "cell_type": "code",
   "execution_count": 46,
   "metadata": {},
   "outputs": [
    {
     "data": {
      "text/plain": [
       "<matplotlib.axes._subplots.AxesSubplot at 0x1a1cd22ed0>"
      ]
     },
     "execution_count": 46,
     "metadata": {},
     "output_type": "execute_result"
    },
    {
     "data": {
      "image/png": "[encoded data removed]",
      "text/plain": [
       "<Figure size 1080x360 with 1 Axes>"
      ]
     },
     "metadata": {
      "needs_background": "light"
     },
     "output_type": "display_data"
    }
   ],
   "source": [
    "plt.figure(figsize=(15,5))\n",
    "sns.countplot(bf['day'],order=bf[bf['deposit']=='yes']['day'].value_counts().index,hue=bf['deposit'])"
   ]
  },
  {
   "cell_type": "markdown",
   "metadata": {},
   "source": [
    "* 1, 2, 3, 4, 10, 12, 13, 15, 16, 22, 23, 24, 25, 27, 30 are the days of last contact for customers who were more likely to subscribe to a term deposit. Overwhelmingly so for days 1, 10, and 30."
   ]
  },
  {
   "cell_type": "code",
   "execution_count": 47,
   "metadata": {},
   "outputs": [
    {
     "data": {
      "text/plain": [
       "<matplotlib.axes._subplots.AxesSubplot at 0x1a1cec96d0>"
      ]
     },
     "execution_count": 47,
     "metadata": {},
     "output_type": "execute_result"
    },
    {
     "data": {
      "image/png": "[encoded data removed]",
      "text/plain": [
       "<Figure size 1080x360 with 1 Axes>"
      ]
     },
     "metadata": {
      "needs_background": "light"
     },
     "output_type": "display_data"
    }
   ],
   "source": [
    "plt.figure(figsize=(15,5))\n",
    "sns.countplot(bf['month'],order=bf[bf['deposit']=='yes']['month'].value_counts().index,hue=bf['deposit'])"
   ]
  },
  {
   "cell_type": "markdown",
   "metadata": {},
   "source": [
    "* April, February, October, September, March, and December seem like good months to call people for a term deposit subscription."
   ]
  },
  {
   "cell_type": "code",
   "execution_count": 48,
   "metadata": {},
   "outputs": [
    {
     "data": {
      "text/plain": [
       "<matplotlib.axes._subplots.AxesSubplot at 0x1a1cfb8a50>"
      ]
     },
     "execution_count": 48,
     "metadata": {},
     "output_type": "execute_result"
    },
    {
     "data": {
      "image/png": "[encoded data removed]",
      "text/plain": [
       "<Figure size 1080x360 with 1 Axes>"
      ]
     },
     "metadata": {
      "needs_background": "light"
     },
     "output_type": "display_data"
    }
   ],
   "source": [
    "plt.figure(figsize=(15,5))\n",
    "sns.countplot(bf['poutcome'],hue=bf['deposit'])"
   ]
  },
  {
   "cell_type": "markdown",
   "metadata": {},
   "source": [
    "* If the previous campaign event was considered successful for a client, he/she are more likely to have a subscription for a term deposit. However, people seem to be indifferent with a previous campaign outcome of \"other\" or \"failure\" (no effect)."
   ]
  },
  {
   "cell_type": "markdown",
   "metadata": {},
   "source": [
    "## Model Preperation"
   ]
  },
  {
   "cell_type": "code",
   "execution_count": 49,
   "metadata": {},
   "outputs": [
    {
     "data": {
      "text/html": [
       "<div>\n",
       "<style scoped>\n",
       "    .dataframe tbody tr th:only-of-type {\n",
       "        vertical-align: middle;\n",
       "    }\n",
       "\n",
       "    .dataframe tbody tr th {\n",
       "        vertical-align: top;\n",
       "    }\n",
       "\n",
       "    .dataframe thead th {\n",
       "        text-align: right;\n",
       "    }\n",
       "</style>\n",
       "<table border=\"1\" class=\"dataframe\">\n",
       "  <thead>\n",
       "    <tr style=\"text-align: right;\">\n",
       "      <th></th>\n",
       "      <th>age</th>\n",
       "      <th>job</th>\n",
       "      <th>marital</th>\n",
       "      <th>education</th>\n",
       "      <th>default</th>\n",
       "      <th>balance</th>\n",
       "      <th>housing</th>\n",
       "      <th>loan</th>\n",
       "      <th>contact</th>\n",
       "      <th>day</th>\n",
       "      <th>month</th>\n",
       "      <th>duration</th>\n",
       "      <th>campaign</th>\n",
       "      <th>previous</th>\n",
       "      <th>poutcome</th>\n",
       "      <th>deposit</th>\n",
       "    </tr>\n",
       "  </thead>\n",
       "  <tbody>\n",
       "    <tr>\n",
       "      <th>3</th>\n",
       "      <td>55.0</td>\n",
       "      <td>services</td>\n",
       "      <td>married</td>\n",
       "      <td>secondary</td>\n",
       "      <td>no</td>\n",
       "      <td>2476.0</td>\n",
       "      <td>yes</td>\n",
       "      <td>no</td>\n",
       "      <td>unknown</td>\n",
       "      <td>5</td>\n",
       "      <td>may</td>\n",
       "      <td>579.0</td>\n",
       "      <td>1.0</td>\n",
       "      <td>0.0</td>\n",
       "      <td>unknown</td>\n",
       "      <td>yes</td>\n",
       "    </tr>\n",
       "    <tr>\n",
       "      <th>4</th>\n",
       "      <td>54.0</td>\n",
       "      <td>admin.</td>\n",
       "      <td>married</td>\n",
       "      <td>tertiary</td>\n",
       "      <td>no</td>\n",
       "      <td>184.0</td>\n",
       "      <td>no</td>\n",
       "      <td>no</td>\n",
       "      <td>unknown</td>\n",
       "      <td>5</td>\n",
       "      <td>may</td>\n",
       "      <td>673.0</td>\n",
       "      <td>2.0</td>\n",
       "      <td>0.0</td>\n",
       "      <td>unknown</td>\n",
       "      <td>yes</td>\n",
       "    </tr>\n",
       "    <tr>\n",
       "      <th>5</th>\n",
       "      <td>42.0</td>\n",
       "      <td>management</td>\n",
       "      <td>single</td>\n",
       "      <td>tertiary</td>\n",
       "      <td>no</td>\n",
       "      <td>0.0</td>\n",
       "      <td>yes</td>\n",
       "      <td>yes</td>\n",
       "      <td>unknown</td>\n",
       "      <td>5</td>\n",
       "      <td>may</td>\n",
       "      <td>562.0</td>\n",
       "      <td>2.0</td>\n",
       "      <td>0.0</td>\n",
       "      <td>unknown</td>\n",
       "      <td>yes</td>\n",
       "    </tr>\n",
       "    <tr>\n",
       "      <th>7</th>\n",
       "      <td>60.0</td>\n",
       "      <td>retired</td>\n",
       "      <td>divorced</td>\n",
       "      <td>secondary</td>\n",
       "      <td>no</td>\n",
       "      <td>545.0</td>\n",
       "      <td>yes</td>\n",
       "      <td>no</td>\n",
       "      <td>unknown</td>\n",
       "      <td>6</td>\n",
       "      <td>may</td>\n",
       "      <td>1030.0</td>\n",
       "      <td>1.0</td>\n",
       "      <td>0.0</td>\n",
       "      <td>unknown</td>\n",
       "      <td>yes</td>\n",
       "    </tr>\n",
       "    <tr>\n",
       "      <th>8</th>\n",
       "      <td>37.0</td>\n",
       "      <td>technician</td>\n",
       "      <td>married</td>\n",
       "      <td>secondary</td>\n",
       "      <td>no</td>\n",
       "      <td>1.0</td>\n",
       "      <td>yes</td>\n",
       "      <td>no</td>\n",
       "      <td>unknown</td>\n",
       "      <td>6</td>\n",
       "      <td>may</td>\n",
       "      <td>608.0</td>\n",
       "      <td>1.0</td>\n",
       "      <td>0.0</td>\n",
       "      <td>unknown</td>\n",
       "      <td>yes</td>\n",
       "    </tr>\n",
       "  </tbody>\n",
       "</table>\n",
       "</div>"
      ],
      "text/plain": [
       "    age         job   marital  education default  balance housing loan  \\\n",
       "3  55.0    services   married  secondary      no   2476.0     yes   no   \n",
       "4  54.0      admin.   married   tertiary      no    184.0      no   no   \n",
       "5  42.0  management    single   tertiary      no      0.0     yes  yes   \n",
       "7  60.0     retired  divorced  secondary      no    545.0     yes   no   \n",
       "8  37.0  technician   married  secondary      no      1.0     yes   no   \n",
       "\n",
       "   contact day month  duration  campaign  previous poutcome deposit  \n",
       "3  unknown   5   may     579.0       1.0       0.0  unknown     yes  \n",
       "4  unknown   5   may     673.0       2.0       0.0  unknown     yes  \n",
       "5  unknown   5   may     562.0       2.0       0.0  unknown     yes  \n",
       "7  unknown   6   may    1030.0       1.0       0.0  unknown     yes  \n",
       "8  unknown   6   may     608.0       1.0       0.0  unknown     yes  "
      ]
     },
     "execution_count": 49,
     "metadata": {},
     "output_type": "execute_result"
    }
   ],
   "source": [
    "bf.head()"
   ]
  },
  {
   "cell_type": "code",
   "execution_count": 50,
   "metadata": {},
   "outputs": [],
   "source": [
    "# Making some dummy variables for independent categorical values\n",
    "job_dv = pd.get_dummies(bf['job'],drop_first=True)\n",
    "marital_dv = pd.get_dummies(bf['marital'],drop_first=True)\n",
    "education_dv = pd.get_dummies(bf['education'],drop_first=True)\n",
    "default_dv = pd.get_dummies(bf['default'],drop_first=True)\n",
    "housing_dv = pd.get_dummies(bf['housing'],drop_first=True)\n",
    "loan_dv = pd.get_dummies(bf['loan'],drop_first=True)\n",
    "contact_dv = pd.get_dummies(bf['contact'],drop_first=True)\n",
    "day_dv = pd.get_dummies(bf['day'],drop_first=True)\n",
    "month_dv = pd.get_dummies(bf['job'],drop_first=True)\n",
    "poutcome_dv = pd.get_dummies(bf['poutcome'],drop_first=True)"
   ]
  },
  {
   "cell_type": "code",
   "execution_count": 51,
   "metadata": {},
   "outputs": [],
   "source": [
    "bf = pd.concat([bf,job_dv,marital_dv,education_dv,default_dv,housing_dv,\n",
    "               loan_dv,contact_dv,day_dv,month_dv,poutcome_dv],axis=1)"
   ]
  },
  {
   "cell_type": "code",
   "execution_count": 52,
   "metadata": {},
   "outputs": [],
   "source": [
    "# Removing categorical values since I got the dummy variables off them\n",
    "bf = bf.drop(['job','marital','education','default','housing','loan','contact','day','month','poutcome'],axis=1)"
   ]
  },
  {
   "cell_type": "markdown",
   "metadata": {},
   "source": [
    "## Model Creation"
   ]
  },
  {
   "cell_type": "code",
   "execution_count": 53,
   "metadata": {},
   "outputs": [],
   "source": [
    "X = bf.drop('deposit',axis=1)\n",
    "y = bf['deposit']"
   ]
  },
  {
   "cell_type": "code",
   "execution_count": 54,
   "metadata": {},
   "outputs": [],
   "source": [
    "from sklearn.model_selection import train_test_split"
   ]
  },
  {
   "cell_type": "code",
   "execution_count": 55,
   "metadata": {},
   "outputs": [],
   "source": [
    "X_train, X_test, y_train, y_test = train_test_split(X, y, test_size=0.20, random_state=42)"
   ]
  },
  {
   "cell_type": "code",
   "execution_count": 56,
   "metadata": {},
   "outputs": [],
   "source": [
    "# Feature Scaling to normalize/standardize features (columns)\n",
    "from sklearn.preprocessing import StandardScaler\n",
    "sc = StandardScaler()\n",
    "X_train = sc.fit_transform(X_train)\n",
    "X_test = sc.transform(X_test)"
   ]
  },
  {
   "cell_type": "code",
   "execution_count": 57,
   "metadata": {},
   "outputs": [],
   "source": [
    "# Logistic Regression\n",
    "from sklearn.linear_model import LogisticRegression\n",
    "logmod = LogisticRegression()"
   ]
  },
  {
   "cell_type": "code",
   "execution_count": 58,
   "metadata": {},
   "outputs": [],
   "source": [
    "# K Nearest Neighbors\n",
    "from sklearn.neighbors import KNeighborsClassifier\n",
    "knn = KNeighborsClassifier(n_neighbors=1)"
   ]
  },
  {
   "cell_type": "code",
   "execution_count": 59,
   "metadata": {},
   "outputs": [],
   "source": [
    "# Random Forest Classifier\n",
    "from sklearn.ensemble import RandomForestClassifier\n",
    "rfc = RandomForestClassifier()"
   ]
  },
  {
   "cell_type": "code",
   "execution_count": 60,
   "metadata": {},
   "outputs": [],
   "source": [
    "# Support Vector Machine\n",
    "from sklearn.svm import SVC\n",
    "svm = SVC()"
   ]
  },
  {
   "cell_type": "markdown",
   "metadata": {},
   "source": [
    "## Cross Validation"
   ]
  },
  {
   "cell_type": "code",
   "execution_count": 61,
   "metadata": {},
   "outputs": [
    {
     "name": "stdout",
     "output_type": "stream",
     "text": [
      "[CV]  ................................................................\n",
      "[CV] ................................................. , total=   0.0s\n",
      "[CV]  ................................................................\n",
      "[CV] ................................................. , total=   0.0s\n",
      "[CV]  ................................................................\n",
      "[CV] ................................................. , total=   0.0s\n",
      "[CV]  ................................................................\n",
      "[CV] ................................................. , total=   0.0s\n",
      "[CV]  ................................................................\n",
      "[CV] ................................................. , total=   0.0s\n",
      "0.8075478900120168\n"
     ]
    },
    {
     "name": "stderr",
     "output_type": "stream",
     "text": [
      "[Parallel(n_jobs=1)]: Using backend SequentialBackend with 1 concurrent workers.\n",
      "[Parallel(n_jobs=1)]: Done   1 out of   1 | elapsed:    0.0s remaining:    0.0s\n",
      "[Parallel(n_jobs=1)]: Done   5 out of   5 | elapsed:    0.1s finished\n"
     ]
    }
   ],
   "source": [
    "from sklearn.model_selection import cross_val_score\n",
    "print(cross_val_score(logmod,X=X_train,y=y_train,cv=5,scoring='accuracy',verbose=2).mean())"
   ]
  },
  {
   "cell_type": "code",
   "execution_count": 62,
   "metadata": {},
   "outputs": [
    {
     "name": "stderr",
     "output_type": "stream",
     "text": [
      "[Parallel(n_jobs=1)]: Using backend SequentialBackend with 1 concurrent workers.\n"
     ]
    },
    {
     "name": "stdout",
     "output_type": "stream",
     "text": [
      "[CV]  ................................................................\n",
      "[CV] ................................................. , total=   0.7s\n",
      "[CV]  ................................................................\n"
     ]
    },
    {
     "name": "stderr",
     "output_type": "stream",
     "text": [
      "[Parallel(n_jobs=1)]: Done   1 out of   1 | elapsed:    0.7s remaining:    0.0s\n"
     ]
    },
    {
     "name": "stdout",
     "output_type": "stream",
     "text": [
      "[CV] ................................................. , total=   0.7s\n",
      "[CV]  ................................................................\n",
      "[CV] ................................................. , total=   0.7s\n",
      "[CV]  ................................................................\n",
      "[CV] ................................................. , total=   0.7s\n",
      "[CV]  ................................................................\n",
      "[CV] ................................................. , total=   0.7s\n",
      "0.671320421290733\n"
     ]
    },
    {
     "name": "stderr",
     "output_type": "stream",
     "text": [
      "[Parallel(n_jobs=1)]: Done   5 out of   5 | elapsed:    3.3s finished\n"
     ]
    }
   ],
   "source": [
    "from sklearn.model_selection import cross_val_score\n",
    "print(cross_val_score(knn,X=X_train,y=y_train,cv=5,scoring='accuracy',verbose=2).mean())"
   ]
  },
  {
   "cell_type": "code",
   "execution_count": 63,
   "metadata": {},
   "outputs": [
    {
     "name": "stdout",
     "output_type": "stream",
     "text": [
      "[CV]  ................................................................\n"
     ]
    },
    {
     "name": "stderr",
     "output_type": "stream",
     "text": [
      "[Parallel(n_jobs=1)]: Using backend SequentialBackend with 1 concurrent workers.\n"
     ]
    },
    {
     "name": "stdout",
     "output_type": "stream",
     "text": [
      "[CV] ................................................. , total=   0.7s\n",
      "[CV]  ................................................................\n"
     ]
    },
    {
     "name": "stderr",
     "output_type": "stream",
     "text": [
      "[Parallel(n_jobs=1)]: Done   1 out of   1 | elapsed:    0.7s remaining:    0.0s\n"
     ]
    },
    {
     "name": "stdout",
     "output_type": "stream",
     "text": [
      "[CV] ................................................. , total=   0.7s\n",
      "[CV]  ................................................................\n",
      "[CV] ................................................. , total=   0.7s\n",
      "[CV]  ................................................................\n",
      "[CV] ................................................. , total=   0.7s\n",
      "[CV]  ................................................................\n",
      "[CV] ................................................. , total=   0.7s\n",
      "0.8183149254258855\n"
     ]
    },
    {
     "name": "stderr",
     "output_type": "stream",
     "text": [
      "[Parallel(n_jobs=1)]: Done   5 out of   5 | elapsed:    3.4s finished\n"
     ]
    }
   ],
   "source": [
    "from sklearn.model_selection import cross_val_score\n",
    "print(cross_val_score(rfc,X=X_train,y=y_train,cv=5,scoring='accuracy',verbose=2).mean())"
   ]
  },
  {
   "cell_type": "code",
   "execution_count": 64,
   "metadata": {},
   "outputs": [
    {
     "name": "stdout",
     "output_type": "stream",
     "text": [
      "[CV]  ................................................................\n"
     ]
    },
    {
     "name": "stderr",
     "output_type": "stream",
     "text": [
      "[Parallel(n_jobs=1)]: Using backend SequentialBackend with 1 concurrent workers.\n"
     ]
    },
    {
     "name": "stdout",
     "output_type": "stream",
     "text": [
      "[CV] ................................................. , total=   2.5s\n",
      "[CV]  ................................................................\n"
     ]
    },
    {
     "name": "stderr",
     "output_type": "stream",
     "text": [
      "[Parallel(n_jobs=1)]: Done   1 out of   1 | elapsed:    2.5s remaining:    0.0s\n"
     ]
    },
    {
     "name": "stdout",
     "output_type": "stream",
     "text": [
      "[CV] ................................................. , total=   2.4s\n",
      "[CV]  ................................................................\n",
      "[CV] ................................................. , total=   2.4s\n",
      "[CV]  ................................................................\n",
      "[CV] ................................................. , total=   2.4s\n",
      "[CV]  ................................................................\n",
      "[CV] ................................................. , total=   2.3s\n",
      "0.8030302360924578\n"
     ]
    },
    {
     "name": "stderr",
     "output_type": "stream",
     "text": [
      "[Parallel(n_jobs=1)]: Done   5 out of   5 | elapsed:   12.1s finished\n"
     ]
    }
   ],
   "source": [
    "from sklearn.model_selection import cross_val_score\n",
    "print(cross_val_score(svm,X=X_train,y=y_train,cv=5,scoring='accuracy',verbose=2).mean())"
   ]
  },
  {
   "cell_type": "markdown",
   "metadata": {},
   "source": [
    "* The Random Forest Model model got the best accuracy result from the K Fold Cross-Validation, and the computational cost is small too! For that reason, I will be using the Random Forest Model as the classifier for this project."
   ]
  },
  {
   "cell_type": "markdown",
   "metadata": {},
   "source": [
    "## Tweaking Parameters and Fitting Model"
   ]
  },
  {
   "cell_type": "code",
   "execution_count": 65,
   "metadata": {},
   "outputs": [],
   "source": [
    "from sklearn.model_selection import GridSearchCV"
   ]
  },
  {
   "cell_type": "code",
   "execution_count": 66,
   "metadata": {},
   "outputs": [],
   "source": [
    "param_grid = {'n_estimators':[10,100,1000],'max_features':['auto', 'sqrt', 'log2'],'min_samples_leaf':[1,10,50]}\n",
    "grid = GridSearchCV(rfc,param_grid,cv=5,verbose=2)"
   ]
  },
  {
   "cell_type": "code",
   "execution_count": 67,
   "metadata": {},
   "outputs": [
    {
     "name": "stdout",
     "output_type": "stream",
     "text": [
      "Fitting 5 folds for each of 27 candidates, totalling 135 fits\n",
      "[CV] max_features=auto, min_samples_leaf=1, n_estimators=10 ..........\n",
      "[CV]  max_features=auto, min_samples_leaf=1, n_estimators=10, total=   0.1s\n",
      "[CV] max_features=auto, min_samples_leaf=1, n_estimators=10 ..........\n",
      "[CV]  max_features=auto, min_samples_leaf=1, n_estimators=10, total=   0.1s\n",
      "[CV] max_features=auto, min_samples_leaf=1, n_estimators=10 ..........\n"
     ]
    },
    {
     "name": "stderr",
     "output_type": "stream",
     "text": [
      "[Parallel(n_jobs=1)]: Using backend SequentialBackend with 1 concurrent workers.\n",
      "[Parallel(n_jobs=1)]: Done   1 out of   1 | elapsed:    0.1s remaining:    0.0s\n"
     ]
    },
    {
     "name": "stdout",
     "output_type": "stream",
     "text": [
      "[CV]  max_features=auto, min_samples_leaf=1, n_estimators=10, total=   0.1s\n",
      "[CV] max_features=auto, min_samples_leaf=1, n_estimators=10 ..........\n",
      "[CV]  max_features=auto, min_samples_leaf=1, n_estimators=10, total=   0.1s\n",
      "[CV] max_features=auto, min_samples_leaf=1, n_estimators=10 ..........\n",
      "[CV]  max_features=auto, min_samples_leaf=1, n_estimators=10, total=   0.1s\n",
      "[CV] max_features=auto, min_samples_leaf=1, n_estimators=100 .........\n",
      "[CV]  max_features=auto, min_samples_leaf=1, n_estimators=100, total=   0.7s\n",
      "[CV] max_features=auto, min_samples_leaf=1, n_estimators=100 .........\n",
      "[CV]  max_features=auto, min_samples_leaf=1, n_estimators=100, total=   0.7s\n",
      "[CV] max_features=auto, min_samples_leaf=1, n_estimators=100 .........\n",
      "[CV]  max_features=auto, min_samples_leaf=1, n_estimators=100, total=   0.7s\n",
      "[CV] max_features=auto, min_samples_leaf=1, n_estimators=100 .........\n",
      "[CV]  max_features=auto, min_samples_leaf=1, n_estimators=100, total=   0.7s\n",
      "[CV] max_features=auto, min_samples_leaf=1, n_estimators=100 .........\n",
      "[CV]  max_features=auto, min_samples_leaf=1, n_estimators=100, total=   0.7s\n",
      "[CV] max_features=auto, min_samples_leaf=1, n_estimators=1000 ........\n",
      "[CV]  max_features=auto, min_samples_leaf=1, n_estimators=1000, total=   6.8s\n",
      "[CV] max_features=auto, min_samples_leaf=1, n_estimators=1000 ........\n",
      "[CV]  max_features=auto, min_samples_leaf=1, n_estimators=1000, total=   6.9s\n",
      "[CV] max_features=auto, min_samples_leaf=1, n_estimators=1000 ........\n",
      "[CV]  max_features=auto, min_samples_leaf=1, n_estimators=1000, total=   6.8s\n",
      "[CV] max_features=auto, min_samples_leaf=1, n_estimators=1000 ........\n",
      "[CV]  max_features=auto, min_samples_leaf=1, n_estimators=1000, total=   6.9s\n",
      "[CV] max_features=auto, min_samples_leaf=1, n_estimators=1000 ........\n",
      "[CV]  max_features=auto, min_samples_leaf=1, n_estimators=1000, total=   6.8s\n",
      "[CV] max_features=auto, min_samples_leaf=10, n_estimators=10 .........\n",
      "[CV]  max_features=auto, min_samples_leaf=10, n_estimators=10, total=   0.1s\n",
      "[CV] max_features=auto, min_samples_leaf=10, n_estimators=10 .........\n",
      "[CV]  max_features=auto, min_samples_leaf=10, n_estimators=10, total=   0.1s\n",
      "[CV] max_features=auto, min_samples_leaf=10, n_estimators=10 .........\n",
      "[CV]  max_features=auto, min_samples_leaf=10, n_estimators=10, total=   0.1s\n",
      "[CV] max_features=auto, min_samples_leaf=10, n_estimators=10 .........\n",
      "[CV]  max_features=auto, min_samples_leaf=10, n_estimators=10, total=   0.1s\n",
      "[CV] max_features=auto, min_samples_leaf=10, n_estimators=10 .........\n",
      "[CV]  max_features=auto, min_samples_leaf=10, n_estimators=10, total=   0.1s\n",
      "[CV] max_features=auto, min_samples_leaf=10, n_estimators=100 ........\n",
      "[CV]  max_features=auto, min_samples_leaf=10, n_estimators=100, total=   0.5s\n",
      "[CV] max_features=auto, min_samples_leaf=10, n_estimators=100 ........\n",
      "[CV]  max_features=auto, min_samples_leaf=10, n_estimators=100, total=   0.5s\n",
      "[CV] max_features=auto, min_samples_leaf=10, n_estimators=100 ........\n",
      "[CV]  max_features=auto, min_samples_leaf=10, n_estimators=100, total=   0.5s\n",
      "[CV] max_features=auto, min_samples_leaf=10, n_estimators=100 ........\n",
      "[CV]  max_features=auto, min_samples_leaf=10, n_estimators=100, total=   0.5s\n",
      "[CV] max_features=auto, min_samples_leaf=10, n_estimators=100 ........\n",
      "[CV]  max_features=auto, min_samples_leaf=10, n_estimators=100, total=   0.5s\n",
      "[CV] max_features=auto, min_samples_leaf=10, n_estimators=1000 .......\n",
      "[CV]  max_features=auto, min_samples_leaf=10, n_estimators=1000, total=   5.2s\n",
      "[CV] max_features=auto, min_samples_leaf=10, n_estimators=1000 .......\n",
      "[CV]  max_features=auto, min_samples_leaf=10, n_estimators=1000, total=   5.0s\n",
      "[CV] max_features=auto, min_samples_leaf=10, n_estimators=1000 .......\n",
      "[CV]  max_features=auto, min_samples_leaf=10, n_estimators=1000, total=   4.4s\n",
      "[CV] max_features=auto, min_samples_leaf=10, n_estimators=1000 .......\n",
      "[CV]  max_features=auto, min_samples_leaf=10, n_estimators=1000, total=   4.5s\n",
      "[CV] max_features=auto, min_samples_leaf=10, n_estimators=1000 .......\n",
      "[CV]  max_features=auto, min_samples_leaf=10, n_estimators=1000, total=   4.4s\n",
      "[CV] max_features=auto, min_samples_leaf=50, n_estimators=10 .........\n",
      "[CV]  max_features=auto, min_samples_leaf=50, n_estimators=10, total=   0.0s\n",
      "[CV] max_features=auto, min_samples_leaf=50, n_estimators=10 .........\n",
      "[CV]  max_features=auto, min_samples_leaf=50, n_estimators=10, total=   0.0s\n",
      "[CV] max_features=auto, min_samples_leaf=50, n_estimators=10 .........\n",
      "[CV]  max_features=auto, min_samples_leaf=50, n_estimators=10, total=   0.0s\n",
      "[CV] max_features=auto, min_samples_leaf=50, n_estimators=10 .........\n",
      "[CV]  max_features=auto, min_samples_leaf=50, n_estimators=10, total=   0.0s\n",
      "[CV] max_features=auto, min_samples_leaf=50, n_estimators=10 .........\n",
      "[CV]  max_features=auto, min_samples_leaf=50, n_estimators=10, total=   0.0s\n",
      "[CV] max_features=auto, min_samples_leaf=50, n_estimators=100 ........\n",
      "[CV]  max_features=auto, min_samples_leaf=50, n_estimators=100, total=   0.4s\n",
      "[CV] max_features=auto, min_samples_leaf=50, n_estimators=100 ........\n",
      "[CV]  max_features=auto, min_samples_leaf=50, n_estimators=100, total=   0.3s\n",
      "[CV] max_features=auto, min_samples_leaf=50, n_estimators=100 ........\n",
      "[CV]  max_features=auto, min_samples_leaf=50, n_estimators=100, total=   0.4s\n",
      "[CV] max_features=auto, min_samples_leaf=50, n_estimators=100 ........\n",
      "[CV]  max_features=auto, min_samples_leaf=50, n_estimators=100, total=   0.3s\n",
      "[CV] max_features=auto, min_samples_leaf=50, n_estimators=100 ........\n",
      "[CV]  max_features=auto, min_samples_leaf=50, n_estimators=100, total=   0.3s\n",
      "[CV] max_features=auto, min_samples_leaf=50, n_estimators=1000 .......\n",
      "[CV]  max_features=auto, min_samples_leaf=50, n_estimators=1000, total=   3.4s\n",
      "[CV] max_features=auto, min_samples_leaf=50, n_estimators=1000 .......\n",
      "[CV]  max_features=auto, min_samples_leaf=50, n_estimators=1000, total=   3.4s\n",
      "[CV] max_features=auto, min_samples_leaf=50, n_estimators=1000 .......\n",
      "[CV]  max_features=auto, min_samples_leaf=50, n_estimators=1000, total=   3.4s\n",
      "[CV] max_features=auto, min_samples_leaf=50, n_estimators=1000 .......\n",
      "[CV]  max_features=auto, min_samples_leaf=50, n_estimators=1000, total=   3.4s\n",
      "[CV] max_features=auto, min_samples_leaf=50, n_estimators=1000 .......\n",
      "[CV]  max_features=auto, min_samples_leaf=50, n_estimators=1000, total=   3.4s\n",
      "[CV] max_features=sqrt, min_samples_leaf=1, n_estimators=10 ..........\n",
      "[CV]  max_features=sqrt, min_samples_leaf=1, n_estimators=10, total=   0.1s\n",
      "[CV] max_features=sqrt, min_samples_leaf=1, n_estimators=10 ..........\n",
      "[CV]  max_features=sqrt, min_samples_leaf=1, n_estimators=10, total=   0.1s\n",
      "[CV] max_features=sqrt, min_samples_leaf=1, n_estimators=10 ..........\n",
      "[CV]  max_features=sqrt, min_samples_leaf=1, n_estimators=10, total=   0.1s\n",
      "[CV] max_features=sqrt, min_samples_leaf=1, n_estimators=10 ..........\n",
      "[CV]  max_features=sqrt, min_samples_leaf=1, n_estimators=10, total=   0.1s\n",
      "[CV] max_features=sqrt, min_samples_leaf=1, n_estimators=10 ..........\n",
      "[CV]  max_features=sqrt, min_samples_leaf=1, n_estimators=10, total=   0.1s\n",
      "[CV] max_features=sqrt, min_samples_leaf=1, n_estimators=100 .........\n",
      "[CV]  max_features=sqrt, min_samples_leaf=1, n_estimators=100, total=   0.7s\n",
      "[CV] max_features=sqrt, min_samples_leaf=1, n_estimators=100 .........\n",
      "[CV]  max_features=sqrt, min_samples_leaf=1, n_estimators=100, total=   0.7s\n",
      "[CV] max_features=sqrt, min_samples_leaf=1, n_estimators=100 .........\n",
      "[CV]  max_features=sqrt, min_samples_leaf=1, n_estimators=100, total=   0.7s\n",
      "[CV] max_features=sqrt, min_samples_leaf=1, n_estimators=100 .........\n",
      "[CV]  max_features=sqrt, min_samples_leaf=1, n_estimators=100, total=   0.7s\n",
      "[CV] max_features=sqrt, min_samples_leaf=1, n_estimators=100 .........\n",
      "[CV]  max_features=sqrt, min_samples_leaf=1, n_estimators=100, total=   0.7s\n",
      "[CV] max_features=sqrt, min_samples_leaf=1, n_estimators=1000 ........\n",
      "[CV]  max_features=sqrt, min_samples_leaf=1, n_estimators=1000, total=   6.6s\n",
      "[CV] max_features=sqrt, min_samples_leaf=1, n_estimators=1000 ........\n",
      "[CV]  max_features=sqrt, min_samples_leaf=1, n_estimators=1000, total=   7.3s\n",
      "[CV] max_features=sqrt, min_samples_leaf=1, n_estimators=1000 ........\n",
      "[CV]  max_features=sqrt, min_samples_leaf=1, n_estimators=1000, total=   6.6s\n",
      "[CV] max_features=sqrt, min_samples_leaf=1, n_estimators=1000 ........\n"
     ]
    },
    {
     "name": "stdout",
     "output_type": "stream",
     "text": [
      "[CV]  max_features=sqrt, min_samples_leaf=1, n_estimators=1000, total=   6.6s\n",
      "[CV] max_features=sqrt, min_samples_leaf=1, n_estimators=1000 ........\n",
      "[CV]  max_features=sqrt, min_samples_leaf=1, n_estimators=1000, total=   6.6s\n",
      "[CV] max_features=sqrt, min_samples_leaf=10, n_estimators=10 .........\n",
      "[CV]  max_features=sqrt, min_samples_leaf=10, n_estimators=10, total=   0.1s\n",
      "[CV] max_features=sqrt, min_samples_leaf=10, n_estimators=10 .........\n",
      "[CV]  max_features=sqrt, min_samples_leaf=10, n_estimators=10, total=   0.1s\n",
      "[CV] max_features=sqrt, min_samples_leaf=10, n_estimators=10 .........\n",
      "[CV]  max_features=sqrt, min_samples_leaf=10, n_estimators=10, total=   0.1s\n",
      "[CV] max_features=sqrt, min_samples_leaf=10, n_estimators=10 .........\n",
      "[CV]  max_features=sqrt, min_samples_leaf=10, n_estimators=10, total=   0.1s\n",
      "[CV] max_features=sqrt, min_samples_leaf=10, n_estimators=10 .........\n",
      "[CV]  max_features=sqrt, min_samples_leaf=10, n_estimators=10, total=   0.1s\n",
      "[CV] max_features=sqrt, min_samples_leaf=10, n_estimators=100 ........\n",
      "[CV]  max_features=sqrt, min_samples_leaf=10, n_estimators=100, total=   0.5s\n",
      "[CV] max_features=sqrt, min_samples_leaf=10, n_estimators=100 ........\n",
      "[CV]  max_features=sqrt, min_samples_leaf=10, n_estimators=100, total=   0.5s\n",
      "[CV] max_features=sqrt, min_samples_leaf=10, n_estimators=100 ........\n",
      "[CV]  max_features=sqrt, min_samples_leaf=10, n_estimators=100, total=   0.4s\n",
      "[CV] max_features=sqrt, min_samples_leaf=10, n_estimators=100 ........\n",
      "[CV]  max_features=sqrt, min_samples_leaf=10, n_estimators=100, total=   0.4s\n",
      "[CV] max_features=sqrt, min_samples_leaf=10, n_estimators=100 ........\n",
      "[CV]  max_features=sqrt, min_samples_leaf=10, n_estimators=100, total=   0.5s\n",
      "[CV] max_features=sqrt, min_samples_leaf=10, n_estimators=1000 .......\n",
      "[CV]  max_features=sqrt, min_samples_leaf=10, n_estimators=1000, total=   4.4s\n",
      "[CV] max_features=sqrt, min_samples_leaf=10, n_estimators=1000 .......\n",
      "[CV]  max_features=sqrt, min_samples_leaf=10, n_estimators=1000, total=   4.4s\n",
      "[CV] max_features=sqrt, min_samples_leaf=10, n_estimators=1000 .......\n",
      "[CV]  max_features=sqrt, min_samples_leaf=10, n_estimators=1000, total=   4.4s\n",
      "[CV] max_features=sqrt, min_samples_leaf=10, n_estimators=1000 .......\n",
      "[CV]  max_features=sqrt, min_samples_leaf=10, n_estimators=1000, total=   4.4s\n",
      "[CV] max_features=sqrt, min_samples_leaf=10, n_estimators=1000 .......\n",
      "[CV]  max_features=sqrt, min_samples_leaf=10, n_estimators=1000, total=   4.4s\n",
      "[CV] max_features=sqrt, min_samples_leaf=50, n_estimators=10 .........\n",
      "[CV]  max_features=sqrt, min_samples_leaf=50, n_estimators=10, total=   0.0s\n",
      "[CV] max_features=sqrt, min_samples_leaf=50, n_estimators=10 .........\n",
      "[CV]  max_features=sqrt, min_samples_leaf=50, n_estimators=10, total=   0.0s\n",
      "[CV] max_features=sqrt, min_samples_leaf=50, n_estimators=10 .........\n",
      "[CV]  max_features=sqrt, min_samples_leaf=50, n_estimators=10, total=   0.0s\n",
      "[CV] max_features=sqrt, min_samples_leaf=50, n_estimators=10 .........\n",
      "[CV]  max_features=sqrt, min_samples_leaf=50, n_estimators=10, total=   0.0s\n",
      "[CV] max_features=sqrt, min_samples_leaf=50, n_estimators=10 .........\n",
      "[CV]  max_features=sqrt, min_samples_leaf=50, n_estimators=10, total=   0.0s\n",
      "[CV] max_features=sqrt, min_samples_leaf=50, n_estimators=100 ........\n",
      "[CV]  max_features=sqrt, min_samples_leaf=50, n_estimators=100, total=   0.3s\n",
      "[CV] max_features=sqrt, min_samples_leaf=50, n_estimators=100 ........\n",
      "[CV]  max_features=sqrt, min_samples_leaf=50, n_estimators=100, total=   0.4s\n",
      "[CV] max_features=sqrt, min_samples_leaf=50, n_estimators=100 ........\n",
      "[CV]  max_features=sqrt, min_samples_leaf=50, n_estimators=100, total=   0.3s\n",
      "[CV] max_features=sqrt, min_samples_leaf=50, n_estimators=100 ........\n",
      "[CV]  max_features=sqrt, min_samples_leaf=50, n_estimators=100, total=   0.4s\n",
      "[CV] max_features=sqrt, min_samples_leaf=50, n_estimators=100 ........\n",
      "[CV]  max_features=sqrt, min_samples_leaf=50, n_estimators=100, total=   0.4s\n",
      "[CV] max_features=sqrt, min_samples_leaf=50, n_estimators=1000 .......\n",
      "[CV]  max_features=sqrt, min_samples_leaf=50, n_estimators=1000, total=   3.4s\n",
      "[CV] max_features=sqrt, min_samples_leaf=50, n_estimators=1000 .......\n",
      "[CV]  max_features=sqrt, min_samples_leaf=50, n_estimators=1000, total=   3.3s\n",
      "[CV] max_features=sqrt, min_samples_leaf=50, n_estimators=1000 .......\n",
      "[CV]  max_features=sqrt, min_samples_leaf=50, n_estimators=1000, total=   3.4s\n",
      "[CV] max_features=sqrt, min_samples_leaf=50, n_estimators=1000 .......\n",
      "[CV]  max_features=sqrt, min_samples_leaf=50, n_estimators=1000, total=   3.4s\n",
      "[CV] max_features=sqrt, min_samples_leaf=50, n_estimators=1000 .......\n",
      "[CV]  max_features=sqrt, min_samples_leaf=50, n_estimators=1000, total=   3.4s\n",
      "[CV] max_features=log2, min_samples_leaf=1, n_estimators=10 ..........\n",
      "[CV]  max_features=log2, min_samples_leaf=1, n_estimators=10, total=   0.1s\n",
      "[CV] max_features=log2, min_samples_leaf=1, n_estimators=10 ..........\n",
      "[CV]  max_features=log2, min_samples_leaf=1, n_estimators=10, total=   0.1s\n",
      "[CV] max_features=log2, min_samples_leaf=1, n_estimators=10 ..........\n",
      "[CV]  max_features=log2, min_samples_leaf=1, n_estimators=10, total=   0.1s\n",
      "[CV] max_features=log2, min_samples_leaf=1, n_estimators=10 ..........\n",
      "[CV]  max_features=log2, min_samples_leaf=1, n_estimators=10, total=   0.1s\n",
      "[CV] max_features=log2, min_samples_leaf=1, n_estimators=10 ..........\n",
      "[CV]  max_features=log2, min_samples_leaf=1, n_estimators=10, total=   0.1s\n",
      "[CV] max_features=log2, min_samples_leaf=1, n_estimators=100 .........\n",
      "[CV]  max_features=log2, min_samples_leaf=1, n_estimators=100, total=   0.6s\n",
      "[CV] max_features=log2, min_samples_leaf=1, n_estimators=100 .........\n",
      "[CV]  max_features=log2, min_samples_leaf=1, n_estimators=100, total=   0.6s\n",
      "[CV] max_features=log2, min_samples_leaf=1, n_estimators=100 .........\n",
      "[CV]  max_features=log2, min_samples_leaf=1, n_estimators=100, total=   0.6s\n",
      "[CV] max_features=log2, min_samples_leaf=1, n_estimators=100 .........\n",
      "[CV]  max_features=log2, min_samples_leaf=1, n_estimators=100, total=   0.6s\n",
      "[CV] max_features=log2, min_samples_leaf=1, n_estimators=100 .........\n",
      "[CV]  max_features=log2, min_samples_leaf=1, n_estimators=100, total=   0.6s\n",
      "[CV] max_features=log2, min_samples_leaf=1, n_estimators=1000 ........\n",
      "[CV]  max_features=log2, min_samples_leaf=1, n_estimators=1000, total=   6.1s\n",
      "[CV] max_features=log2, min_samples_leaf=1, n_estimators=1000 ........\n",
      "[CV]  max_features=log2, min_samples_leaf=1, n_estimators=1000, total=   6.0s\n",
      "[CV] max_features=log2, min_samples_leaf=1, n_estimators=1000 ........\n",
      "[CV]  max_features=log2, min_samples_leaf=1, n_estimators=1000, total=   6.0s\n",
      "[CV] max_features=log2, min_samples_leaf=1, n_estimators=1000 ........\n",
      "[CV]  max_features=log2, min_samples_leaf=1, n_estimators=1000, total=   6.1s\n",
      "[CV] max_features=log2, min_samples_leaf=1, n_estimators=1000 ........\n",
      "[CV]  max_features=log2, min_samples_leaf=1, n_estimators=1000, total=   6.1s\n",
      "[CV] max_features=log2, min_samples_leaf=10, n_estimators=10 .........\n",
      "[CV]  max_features=log2, min_samples_leaf=10, n_estimators=10, total=   0.0s\n",
      "[CV] max_features=log2, min_samples_leaf=10, n_estimators=10 .........\n",
      "[CV]  max_features=log2, min_samples_leaf=10, n_estimators=10, total=   0.0s\n",
      "[CV] max_features=log2, min_samples_leaf=10, n_estimators=10 .........\n",
      "[CV]  max_features=log2, min_samples_leaf=10, n_estimators=10, total=   0.0s\n",
      "[CV] max_features=log2, min_samples_leaf=10, n_estimators=10 .........\n",
      "[CV]  max_features=log2, min_samples_leaf=10, n_estimators=10, total=   0.0s\n",
      "[CV] max_features=log2, min_samples_leaf=10, n_estimators=10 .........\n",
      "[CV]  max_features=log2, min_samples_leaf=10, n_estimators=10, total=   0.1s\n",
      "[CV] max_features=log2, min_samples_leaf=10, n_estimators=100 ........\n",
      "[CV]  max_features=log2, min_samples_leaf=10, n_estimators=100, total=   0.4s\n",
      "[CV] max_features=log2, min_samples_leaf=10, n_estimators=100 ........\n",
      "[CV]  max_features=log2, min_samples_leaf=10, n_estimators=100, total=   0.4s\n",
      "[CV] max_features=log2, min_samples_leaf=10, n_estimators=100 ........\n",
      "[CV]  max_features=log2, min_samples_leaf=10, n_estimators=100, total=   0.4s\n",
      "[CV] max_features=log2, min_samples_leaf=10, n_estimators=100 ........\n",
      "[CV]  max_features=log2, min_samples_leaf=10, n_estimators=100, total=   0.4s\n",
      "[CV] max_features=log2, min_samples_leaf=10, n_estimators=100 ........\n"
     ]
    },
    {
     "name": "stdout",
     "output_type": "stream",
     "text": [
      "[CV]  max_features=log2, min_samples_leaf=10, n_estimators=100, total=   0.4s\n",
      "[CV] max_features=log2, min_samples_leaf=10, n_estimators=1000 .......\n",
      "[CV]  max_features=log2, min_samples_leaf=10, n_estimators=1000, total=   3.9s\n",
      "[CV] max_features=log2, min_samples_leaf=10, n_estimators=1000 .......\n",
      "[CV]  max_features=log2, min_samples_leaf=10, n_estimators=1000, total=   3.8s\n",
      "[CV] max_features=log2, min_samples_leaf=10, n_estimators=1000 .......\n",
      "[CV]  max_features=log2, min_samples_leaf=10, n_estimators=1000, total=   3.8s\n",
      "[CV] max_features=log2, min_samples_leaf=10, n_estimators=1000 .......\n",
      "[CV]  max_features=log2, min_samples_leaf=10, n_estimators=1000, total=   3.9s\n",
      "[CV] max_features=log2, min_samples_leaf=10, n_estimators=1000 .......\n",
      "[CV]  max_features=log2, min_samples_leaf=10, n_estimators=1000, total=   3.9s\n",
      "[CV] max_features=log2, min_samples_leaf=50, n_estimators=10 .........\n",
      "[CV]  max_features=log2, min_samples_leaf=50, n_estimators=10, total=   0.0s\n",
      "[CV] max_features=log2, min_samples_leaf=50, n_estimators=10 .........\n",
      "[CV]  max_features=log2, min_samples_leaf=50, n_estimators=10, total=   0.0s\n",
      "[CV] max_features=log2, min_samples_leaf=50, n_estimators=10 .........\n",
      "[CV]  max_features=log2, min_samples_leaf=50, n_estimators=10, total=   0.0s\n",
      "[CV] max_features=log2, min_samples_leaf=50, n_estimators=10 .........\n",
      "[CV]  max_features=log2, min_samples_leaf=50, n_estimators=10, total=   0.0s\n",
      "[CV] max_features=log2, min_samples_leaf=50, n_estimators=10 .........\n",
      "[CV]  max_features=log2, min_samples_leaf=50, n_estimators=10, total=   0.0s\n",
      "[CV] max_features=log2, min_samples_leaf=50, n_estimators=100 ........\n",
      "[CV]  max_features=log2, min_samples_leaf=50, n_estimators=100, total=   0.3s\n",
      "[CV] max_features=log2, min_samples_leaf=50, n_estimators=100 ........\n",
      "[CV]  max_features=log2, min_samples_leaf=50, n_estimators=100, total=   0.3s\n",
      "[CV] max_features=log2, min_samples_leaf=50, n_estimators=100 ........\n",
      "[CV]  max_features=log2, min_samples_leaf=50, n_estimators=100, total=   0.3s\n",
      "[CV] max_features=log2, min_samples_leaf=50, n_estimators=100 ........\n",
      "[CV]  max_features=log2, min_samples_leaf=50, n_estimators=100, total=   0.3s\n",
      "[CV] max_features=log2, min_samples_leaf=50, n_estimators=100 ........\n",
      "[CV]  max_features=log2, min_samples_leaf=50, n_estimators=100, total=   0.3s\n",
      "[CV] max_features=log2, min_samples_leaf=50, n_estimators=1000 .......\n",
      "[CV]  max_features=log2, min_samples_leaf=50, n_estimators=1000, total=   3.0s\n",
      "[CV] max_features=log2, min_samples_leaf=50, n_estimators=1000 .......\n",
      "[CV]  max_features=log2, min_samples_leaf=50, n_estimators=1000, total=   3.0s\n",
      "[CV] max_features=log2, min_samples_leaf=50, n_estimators=1000 .......\n",
      "[CV]  max_features=log2, min_samples_leaf=50, n_estimators=1000, total=   3.0s\n",
      "[CV] max_features=log2, min_samples_leaf=50, n_estimators=1000 .......\n",
      "[CV]  max_features=log2, min_samples_leaf=50, n_estimators=1000, total=   3.0s\n",
      "[CV] max_features=log2, min_samples_leaf=50, n_estimators=1000 .......\n",
      "[CV]  max_features=log2, min_samples_leaf=50, n_estimators=1000, total=   3.0s\n"
     ]
    },
    {
     "name": "stderr",
     "output_type": "stream",
     "text": [
      "[Parallel(n_jobs=1)]: Done 135 out of 135 | elapsed:  3.9min finished\n"
     ]
    },
    {
     "data": {
      "text/plain": [
       "GridSearchCV(cv=5, error_score=nan,\n",
       "             estimator=RandomForestClassifier(bootstrap=True, ccp_alpha=0.0,\n",
       "                                              class_weight=None,\n",
       "                                              criterion='gini', max_depth=None,\n",
       "                                              max_features='auto',\n",
       "                                              max_leaf_nodes=None,\n",
       "                                              max_samples=None,\n",
       "                                              min_impurity_decrease=0.0,\n",
       "                                              min_impurity_split=None,\n",
       "                                              min_samples_leaf=1,\n",
       "                                              min_samples_split=2,\n",
       "                                              min_weight_fraction_leaf=0.0,\n",
       "                                              n_estimators=100, n_jobs=None,\n",
       "                                              oob_score=False,\n",
       "                                              random_state=None, verbose=0,\n",
       "                                              warm_start=False),\n",
       "             iid='deprecated', n_jobs=None,\n",
       "             param_grid={'max_features': ['auto', 'sqrt', 'log2'],\n",
       "                         'min_samples_leaf': [1, 10, 50],\n",
       "                         'n_estimators': [10, 100, 1000]},\n",
       "             pre_dispatch='2*n_jobs', refit=True, return_train_score=False,\n",
       "             scoring=None, verbose=2)"
      ]
     },
     "execution_count": 67,
     "metadata": {},
     "output_type": "execute_result"
    }
   ],
   "source": [
    "grid.fit(X_train, y_train)"
   ]
  },
  {
   "cell_type": "code",
   "execution_count": 68,
   "metadata": {},
   "outputs": [
    {
     "data": {
      "text/plain": [
       "RandomForestClassifier(bootstrap=True, ccp_alpha=0.0, class_weight=None,\n",
       "                       criterion='gini', max_depth=None, max_features='sqrt',\n",
       "                       max_leaf_nodes=None, max_samples=None,\n",
       "                       min_impurity_decrease=0.0, min_impurity_split=None,\n",
       "                       min_samples_leaf=1, min_samples_split=2,\n",
       "                       min_weight_fraction_leaf=0.0, n_estimators=1000,\n",
       "                       n_jobs=None, oob_score=False, random_state=None,\n",
       "                       verbose=0, warm_start=False)"
      ]
     },
     "execution_count": 68,
     "metadata": {},
     "output_type": "execute_result"
    }
   ],
   "source": [
    "grid.best_estimator_"
   ]
  },
  {
   "cell_type": "code",
   "execution_count": 69,
   "metadata": {},
   "outputs": [
    {
     "data": {
      "text/plain": [
       "RandomForestClassifier(bootstrap=True, ccp_alpha=0.0, class_weight=None,\n",
       "                       criterion='gini', max_depth=None, max_features='auto',\n",
       "                       max_leaf_nodes=None, max_samples=None,\n",
       "                       min_impurity_decrease=0.0, min_impurity_split=None,\n",
       "                       min_samples_leaf=1, min_samples_split=2,\n",
       "                       min_weight_fraction_leaf=0.0, n_estimators=100,\n",
       "                       n_jobs=None, oob_score=False, random_state=None,\n",
       "                       verbose=0, warm_start=False)"
      ]
     },
     "execution_count": 69,
     "metadata": {},
     "output_type": "execute_result"
    }
   ],
   "source": [
    "rfc.fit(X_train,y_train)"
   ]
  },
  {
   "cell_type": "markdown",
   "metadata": {},
   "source": [
    "## Model Evaluations"
   ]
  },
  {
   "cell_type": "code",
   "execution_count": 70,
   "metadata": {},
   "outputs": [],
   "source": [
    "from sklearn.metrics import classification_report,confusion_matrix,accuracy_score"
   ]
  },
  {
   "cell_type": "code",
   "execution_count": 71,
   "metadata": {},
   "outputs": [],
   "source": [
    "prediction = grid.predict(X_test)"
   ]
  },
  {
   "cell_type": "code",
   "execution_count": 72,
   "metadata": {},
   "outputs": [
    {
     "name": "stdout",
     "output_type": "stream",
     "text": [
      "[[911 178]\n",
      " [167 625]]\n",
      "\n",
      "\n",
      "              precision    recall  f1-score   support\n",
      "\n",
      "          no       0.85      0.84      0.84      1089\n",
      "         yes       0.78      0.79      0.78       792\n",
      "\n",
      "    accuracy                           0.82      1881\n",
      "   macro avg       0.81      0.81      0.81      1881\n",
      "weighted avg       0.82      0.82      0.82      1881\n",
      "\n",
      "\n",
      "\n",
      "accuracy score = 0.8165869218500797\n"
     ]
    }
   ],
   "source": [
    "print(confusion_matrix(y_test,prediction))\n",
    "print('\\n')\n",
    "print(classification_report(y_test,prediction))\n",
    "print('\\n')\n",
    "print(f'accuracy score = {accuracy_score(y_test,prediction)}')"
   ]
  },
  {
   "cell_type": "markdown",
   "metadata": {},
   "source": [
    "* Overall, the weighted f1-score (average of weighted precision and recall score) is 82%. This means that the model is highly accurate, but not too accurate to the point where it loses its predictive capabilities."
   ]
  },
  {
   "cell_type": "code",
   "execution_count": 73,
   "metadata": {},
   "outputs": [
    {
     "data": {
      "text/plain": [
       "<matplotlib.axes._subplots.AxesSubplot at 0x1a1b618f90>"
      ]
     },
     "execution_count": 73,
     "metadata": {},
     "output_type": "execute_result"
    },
    {
     "data": {
      "image/png": "[encoded data removed]",
      "text/plain": [
       "<Figure size 432x288 with 2 Axes>"
      ]
     },
     "metadata": {
      "needs_background": "light"
     },
     "output_type": "display_data"
    }
   ],
   "source": [
    "# Visualization of confusion matrix\n",
    "sns.heatmap(confusion_matrix(y_test,prediction),annot=True,cmap='plasma')"
   ]
  },
  {
   "cell_type": "code",
   "execution_count": 74,
   "metadata": {},
   "outputs": [],
   "source": [
    "# Getting feature weights\n",
    "importance = grid.best_estimator_.feature_importances_\n",
    "impdf = pd.DataFrame(np.around(importance,4)*100,X.columns,['Importance'])"
   ]
  },
  {
   "cell_type": "code",
   "execution_count": 75,
   "metadata": {},
   "outputs": [
    {
     "data": {
      "text/plain": [
       "<matplotlib.axes._subplots.AxesSubplot at 0x1a1e7058d0>"
      ]
     },
     "execution_count": 75,
     "metadata": {},
     "output_type": "execute_result"
    },
    {
     "data": {
      "image/png": "[encoded data removed]",
      "text/plain": [
       "<Figure size 1440x720 with 1 Axes>"
      ]
     },
     "metadata": {
      "needs_background": "light"
     },
     "output_type": "display_data"
    }
   ],
   "source": [
    "impdf.sort_values('Importance',ascending=False).plot(kind='bar',figsize=(20,10))"
   ]
  },
  {
   "cell_type": "markdown",
   "metadata": {},
   "source": [
    "* The campaign's duration, balance of the clients, and age of the clients are the top three biggest contributors of the model's result"
   ]
  },
  {
   "cell_type": "markdown",
   "metadata": {},
   "source": [
    "## Summary"
   ]
  },
  {
   "cell_type": "markdown",
   "metadata": {},
   "source": [
    "* <b>Top 3 Factors:</b> The top three things that the marketing team must focus on when planning a new campaign to gain more subscribers for term deposits.\n",
    "    1. <b>Duration:</b> Increase the <u>duration of each call to about 250 seconds or more</u> (about 4 minutes).\n",
    "    2. <b>Balance:</b> Target clients who have a <u>balance greater or equal to 500 dollars</u>.\n",
    "    3. <b>Age:</b> On average, target clients who are older. A more specific range are <u>people who are less than 30 years old AND greater than 58 years old</u>.\n",
    "\n",
    "<br>\n",
    "\n",
    "* <b>Notable Insights:</b> Additional factors that should be noted when planning the campaign.\n",
    "    1. <b>Minimize Repeated Calls:</b> Calling the same person too many times in a short interval will decrease the chance of a person subscribing to a term deposit. On average, <u>do not call the same client more than 2 times in a single campaign</u> since doing so will decrease the likelihood of a term deposit subscription. However, it helps to <u>call at least one time from a previous campaign</u> event to a current campaign event since people who were called at least 1 time were more likely to subscribe, compared to people who were called 0 times from a previous campaign.\n",
    "    2. <b>Job Demographics:</b> Good job demographic to target for term deposit subscriptions are <u>people who are retired, students, or unemployed</u> since they are more likely to subscribe to a term deposit than other job types. However, there should definitely be an attempt to improve conversion rates with people who work in management, technician, or blue-collar jobs since they make up the majority of the client base.\n",
    "    3. <b>Education:</b> <u>The more educated a person is, the more likely they are to subscribe for a term deposit</u>. In addition, the majority of the client base are people who have a secondary education (bachelor's degree) as their highest education. For this reason, it is a good idea to find an easier way to explain what a term deposit is to clients so that the bank can capture more people who only have a primary or secondary education.\n",
    "    4. <b>Marital Status:</b> <u>People who are single are the most likely to subscribe to a term deposit</u>. However, it is a good idea to improve conversion rates with people who are married since married couples make up the majority of the client base.\n",
    "    5. <b>Optimal Times to Call:</b> Months where people are more likely to subscribe to a term deposit is <u>April, February, October, September, March, and December</u>. For budgeting purpose, it is a good idea to greatly push the campaign during these months. In addition, <u>people are more likely to subscribe to a term deposit during the first day and last day of the month</u> (31 doesn't count since only 7 months have 31 days). For some reason, the 10th day of a month has a high conversion ratio for a term deposit subscription.\n",
    "    6. <b>Housing Loans:</b> <u>People who do not have a housing loan are more likely to subscribe to a term deposit</u>.\n",
    "    7. <b>Preferred Form of Communication:</b> If possible, try to <u>communicate with people on a cellular device</u> since there is a higher likelihood to convert that call to a term deposit subscription. However, there is still room for improvement for other forms of communication (laptops, computers, telephones, etc).\n",
    "    8. <b>Previous Campaign Results:</b> If the previous campaign result was considered a success for a specific client, then the current campaign event is likely to get that client to subscribe to a term deposit. However, if the previous campaign event was considered a failure for a specific client, then he/she is indifferent."
   ]
  },
  {
   "cell_type": "code",
   "execution_count": null,
   "metadata": {},
   "outputs": [],
   "source": []
  }
 ],
 "metadata": {
  "kernelspec": {
   "display_name": "Python 3",
   "language": "python",
   "name": "python3"
  },
  "language_info": {
   "codemirror_mode": {
    "name": "ipython",
    "version": 3
   },
   "file_extension": ".py",
   "mimetype": "text/x-python",
   "name": "python",
   "nbconvert_exporter": "python",
   "pygments_lexer": "ipython3",
   "version": "3.7.4"
  }
 },
 "nbformat": 4,
 "nbformat_minor": 4
}
